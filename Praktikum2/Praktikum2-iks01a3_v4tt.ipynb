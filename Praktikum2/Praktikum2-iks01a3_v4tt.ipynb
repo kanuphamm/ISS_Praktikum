{
 "cells": [
  {
   "cell_type": "markdown",
   "id": "eafc4fcf-0a48-41c8-a92e-e77575c87916",
   "metadata": {},
   "source": [
    "# Praktikum 2 Intelligente Sensortsysteme\n",
    "Tim Tiedemann, Thomas Lehmann, Tobias de Gasperis "
   ]
  },
  {
   "cell_type": "markdown",
   "id": "cdfdf27f-46bb-42cf-b03a-a9e51d115f83",
   "metadata": {},
   "source": [
    "# Einfache intelligente Sensoren und Datenvorverarbeitung\n",
    "Im Praktikum 2 geht es zum einen um die Eigenschaften eines ersten einfachen intelligenten Sensors, sowie eine erste Datenvorverarbeitung mittels Mikrocontroller.\n",
    "\n",
    "Lesen Sie sich die Aufgaben gut durch. Sollten Sie eine Aufgabe nicht lösen können, so beschreiben Sie zumindest, wie weit Sie gekommen sind und auf welche Weise Sie vorgegangen sind. \n",
    "\n",
    "Die Aufgaben sind direkt hier als Protokoll zu bearbeiten. Das abgegebene Notebook soll ausführbar sein. Daneben ist der PDF-Export des Notebook mit abzugeben."
   ]
  },
  {
   "cell_type": "markdown",
   "id": "7224c6c1-bc0d-4fdb-89da-b4577e25c59b",
   "metadata": {},
   "source": [
    "Autoren des Protokolls: Khanh Nhu Pham, Berivan Elmas"
   ]
  },
  {
   "cell_type": "markdown",
   "id": "dec8e73b-51fa-4783-ac84-82653d59307d",
   "metadata": {
    "tags": []
   },
   "source": [
    "# Hintergrund\n",
    "\n",
    "Bewegungssensoren sind inzwischen trotz ihrer Komplexität Massenware und finden sich in verschiedenen Anwendungen. Als Beispiele sollen in diesem Praktikum ein Joystick und eine Alarmanlage auf Basis von Bewegungssensoren als Sensorsystem entwickelt werden. Dazu soll zunächst das Verhalten dieser Sensoren und die Kommunikation mit komplexeren Sensoren untersucht werden. \n",
    "\n",
    "Oftmals ergibt sich die Schwierigkeit, dass Daten nicht direkt verarbeitet werden können, sondern zwischengespeichert und später übertragen werden. Die dabei entstehenden Probleme und Lösungsansätze sollen ebenfalls untersucht werden.\n",
    "\n",
    "Im Rahmen der folgenden Praktika sollen Bewegungsmuster oder Phasen der Bewegung automatisch erkannt und klassifiziert werden (Stichwort Gestenerkennung). Die hierfür benötigten Rohdaten für die nachfolgenden Analysen sollen hier gesammelt werden."
   ]
  },
  {
   "cell_type": "markdown",
   "id": "272c2970-ecfe-4b9c-85b4-73e1bec70884",
   "metadata": {
    "tags": []
   },
   "source": [
    "# Vorbereitungsaufgaben\n",
    "## Beschleunigungs- und Gyroskop-Sensoren\n",
    "\n",
    "Beschaffen Sie sich die Datenblätter zu den Sensoren ST LSM6DS0, LIS2DW12 und LIS2MDL. Welche Quellen für Datenblätter kennen Sie und welche haben Sie warum gewählt?\n",
    "\n",
    "**Datenblätter**"
   ]
  },
  {
   "cell_type": "markdown",
   "id": "bab3d15a",
   "metadata": {},
   "source": [
    "- Es wurden die Herstellerseiten benutzt, da diese als die zuverlässigsten Quellen gewertet wurden."
   ]
  },
  {
   "cell_type": "markdown",
   "id": "8e91dabb-015a-45d7-8286-fb736a790e10",
   "metadata": {
    "tags": []
   },
   "source": [
    "Um was für Sensoren handelt es sich jeweils? Beschreiben Sie kurz die Funktionsweise und wichtigsten technischen Parameter, die für die Praktikumsaufgabe relevant sein könnten!\n",
    "\n",
    "**Funktionsweise**"
   ]
  },
  {
   "cell_type": "markdown",
   "id": "aec35bd9-b30f-4c9a-8f5f-d08b0145c6d4",
   "metadata": {},
   "source": [
    "- Der LSM6DS0 ist ein 3D Beschleunigungsmesser und 3D Gyroskop, der eine genaue Erfassung der Beschleunigung und des Drehwinkels in allen drei Raumrichtungen ermöglicht.\n",
    "- Der LIS2DW12 ist ein 3-Achsen-Beschleunigungsmesser, der eine hohe Genauigkeit und einen geringeren Stromverbrauch aufweist.\n",
    "- Der LIS2MDL ist ein Magnetfeld-Sensor, welcher so konfiguriert werden kann, dass er durch Interrupts die Erkennung eines Magnetfeldes anzeigt signalisiert. Die Stärke des Magnetfeldes ist proportional zur Ausgangsspannung."
   ]
  },
  {
   "cell_type": "markdown",
   "id": "345fe6be-2dc1-4ceb-8c3c-d2ffaa2520bf",
   "metadata": {},
   "source": [
    "Über welche Kommunikationsschnittstelle(n) kann/können Messwerte der Sensoren (s.o.) ausgelesen werden. Wird/werden diese vom Mikrocontroller auf dem Nucleo-Board unterstützt? Können dafür bestimmte Funktionseinheiten innerhalb des Mikrocontrollers genutzt werden?\n",
    "\n",
    "**Schnittstellen**"
   ]
  },
  {
   "cell_type": "markdown",
   "id": "bec1f5e4-4f43-4c69-b1a8-95319559338a",
   "metadata": {},
   "source": [
    "- Die Schnittstellen der Sensoren sind I2C und SPI, beides wird auch vom Mikrocontroller unterstützt.\n",
    "- DMA, um die Latenz der Datenauslesung durch direkten Speicherzugriff zu reduzieren. Die Datenübertragungsrate wird erhöht."
   ]
  },
  {
   "cell_type": "markdown",
   "id": "85f91565-24fb-4c03-b8db-ddf97116d17e",
   "metadata": {
    "tags": []
   },
   "source": [
    "## Einarbeitung in den Demo-Code\n",
    "Analysieren Sie das über Git/EMIL/MS-Teams zur Verfügung gestellte Mikrocontroller-Projekt. Was wird da gemacht? Wo findet ein Zugriff auf die Sensoren statt? Wo die initiale Konfiguration der Mikrocontroller-internen Komponenten? An welcher Stelle werden vermutlich Zugriffe auf das “whoami”-Register durchgeführt? \n",
    "\n",
    "- Die Sensoren werden eingeschaltet und identifiziert. Die Werte der Achsen werden ausgewertet und ausgegeben.\n",
    "- Die HW Zugriffe finden statt in ITS_BRD_Sensorik/Driver/BSP/Components.\n",
    "- Die who_am_i Register werden in den jeweiligen _reg.c Dateien (in ITS_BRD_Sensorik/Driver/BSP/Components) ausgelesen. \n",
    "\n",
    "Insbesondere: Welche Kommunikationsschnittstelle verwenden die High-Level-Schnittstellen zu den Sensoren und an welcher Stelle wird diese konfiguriert? Somit auch an welchen Pins des Controllers sind die Sensoren angeschlossen?\n",
    "\n",
    "- C:\\Users\\simge\\ISSP\\ITS_BRD_ISSP\\ITS-BRD\\ITS_BRD_Sensorik\\Core\\Src\\stm32f4xx_nucleo_bus.c Z.433 ??\n",
    "\n",
    "Optional: Verfolgen Sie im Praktikum per Debugger die Ausführung der Zugriffsfunktionen durch die Schichten der Bibliothek. Wo erfolgt wirklich der Zugriff auf den Kommunikationskanal?\n",
    "\n",
    "**Analyseergebnis**"
   ]
  },
  {
   "cell_type": "markdown",
   "id": "e3568755-8972-40b1-a648-825c9496c3e7",
   "metadata": {},
   "source": [
    "- Der Zugriff erfolgt auf den unteren Schichten in der Datei [...]_nucleo_bus.c, wo zunächst die Konfiguration der Pins stattfindet"
   ]
  },
  {
   "cell_type": "markdown",
   "id": "e3a13536-be2f-45f4-a51e-adcec495b336",
   "metadata": {},
   "source": [
    "# Im Labor"
   ]
  },
  {
   "cell_type": "markdown",
   "id": "00a26be8-2f6d-4257-9c51-3615fb4d791c",
   "metadata": {},
   "source": [
    "## Beschleunigungs- und Gyroskop-Sensoren – die üblichen IMU-Spielereien\n",
    "\n",
    "### Analyse des Sensorverhaltens\n",
    "Modifizieren Sie das gegebene Microkontroller-Programm derart, dass die Daten in einem CSV- Format ausgegeben werden (Trennung der Dimensionen per Komma oder Tabulator, ggf. konfigurierbar). Es reichen hier die Daten vom LSM6DS0, LIS2DW12 und LIS2MDL (also insgesamt 12 Werte je Zeile). Fügen Sie einen Codeauszug (wenige Zeilen) hier hinzu.\n",
    "\n",
    "**Code-Sample**"
   ]
  },
  {
   "cell_type": "markdown",
   "id": "8c3c4554-7d2e-4c4b-9fae-a740a6d2ac9d",
   "metadata": {},
   "source": [
    "    char* lineOfData = malloc(SIZE_OF_STRING*4);\n",
    "    char s1[SIZE_OF_STRING] = {0};\n",
    "    char s2[SIZE_OF_STRING] = {0};\n",
    "    char s3[SIZE_OF_STRING] = {0};\n",
    "    char s4[SIZE_OF_STRING] = {0};\n",
    "    \n",
    "    [...]\n",
    "    \n",
    "    while(1){\n",
    "        acc_gyro.get_a_axes(axes);\n",
    "        sprintf(s1, \"%6d[acc/mg], %6d[acc/mg], %6d[acc/mg],\", axes[0], axes[1], axes[2]); \n",
    "        acc_gyro.get_g_axes(axes);\n",
    "        sprintf(s2, \"%6d[gyro/mg], %6d[gyro/mg], %6d[gyro/mg],\", axes[0], axes[1], axes[2]);\n",
    "\n",
    "        accelerometer.get_a_axes(axes);\n",
    "        sprintf(s3, \"%6d[acc/mg], %6d[acc/mg], %6d[acc/mg],\", axes[0], axes[1], axes[2]);\n",
    "\t\t\n",
    "        magnetometer.get_m_axes(axes);\n",
    "        sprintf(s4, \"%6d[mag/mgauss], %6d[mag/mgauss], %6d[mag/mgauss]\", axes[0], axes[1], axes[2]);\n",
    "        sprintf(lineOfData, \"%s, %s, %s, %s\", s1, s2, s3, s4);\n",
    "        printf(\"%s\\r\\n\", lineOfData);\n",
    "        lcdPrintlnS(lineOfData);\n",
    "        \n",
    "        [...]\n",
    "    }"
   ]
  },
  {
   "cell_type": "markdown",
   "id": "1593d8e0-a692-4e4b-b896-6552017537e4",
   "metadata": {},
   "source": [
    "Werten Sie die ausgegebenen Beschleunigungs- und Gyroskopwerte aus: In welchem Bereich liegen diese, wenn das Board ruhig auf dem Tisch liegt? Ist der Bereich bei allen drei Achsen X/Y/Z jeweils gleich? Wie ändert sich die Ausgabe, wenn Sie das Board geneigt halten? Fügen Sie diesem Protokoll geeignete Plots von aufgezeichneten Daten hinzu, mit drei Achsen x/y/z von einem (oder mehreren) der Sensoren, aufgenommen während einer Bewegung wie z.B. “Ruhelage auf dem Tisch – Bewegung – Ruhelage auf dem Tisch”. Datendateien sind ebenfals abzugeben, so dass das Notebook ausführbar bleibt.\n",
    "\n",
    "**Datenanalyse**\n",
    "\n",
    "- Datendateien??"
   ]
  },
  {
   "cell_type": "code",
   "execution_count": null,
   "id": "cd10af88-9015-42a0-91b7-802b24fa3e34",
   "metadata": {},
   "outputs": [],
   "source": []
  },
  {
   "cell_type": "markdown",
   "id": "3aebc109-2d46-4120-a90c-55ace984a0d0",
   "metadata": {},
   "source": [
    "Überlegen Sie, wie Sie Beschleunigungswerte generieren könnten, die vom Betrag möglichst klein sind (gleichzeitig auf allen drei Achsen und über mehrere Samples hinweg). Wie können Sie dies erreichen? Welche Werte erreichen Sie? \n",
    "\n",
    "Hinweis: Sie können für Experimente auch ein Smartphone und die App “phyphox” der RWTH Aachen verwenden. Was erwarten Sie, was Sie währenddessen auf den drei Gyroskopachsen messen? Was messen Sie?\n",
    "\n",
    "**Lösung**"
   ]
  },
  {
   "cell_type": "markdown",
   "id": "5f33adfe-6731-4582-9eca-8f57aeedeec6",
   "metadata": {},
   "source": [
    "- Den Sensor flach auf eine Oberfläche zu legen hält die Werte neutral und relativ konstant. Gerundet kommen die Achsen dann auf: x = 0g, y = 1g (wegen Erdbeschleunigung) und z = 0g\n",
    "- Neigungen, Stöße etc meiden\n",
    "- in bestimmten Intervallen Messwerte nehmen und evtl Mittelwerte bilden\n",
    "- (Messfehler durch Kalibrierung minimieren)"
   ]
  },
  {
   "cell_type": "markdown",
   "id": "aa1f5ffb-4490-4207-ac62-da28c5c400fd",
   "metadata": {},
   "source": [
    "## Anwendungsentwicklung\n",
    "Es sollen die beiden Anwendungen Joystick und Alarmanlage entwickelt werden. Erstellen Sie vorab zwei Kopien des Projektes, in dennen Sie dann die Anwendungen entwickeln."
   ]
  },
  {
   "cell_type": "markdown",
   "id": "75c05898-d710-4aaf-aa8a-6aa6909cec15",
   "metadata": {},
   "source": [
    "### Joystick\n",
    "Verändern Sie die Ausgabe Ihres Microcontroller-Programms derart, dass das Board als User- Interface genutzt werden kann. Geben Sie beispielsweise einen “X”-Wert und einen “Y”-Wert eines simulierten Joysticks aus. Beide Ausgabewerte sollen in waagerechter Ausrichtung des Boards 0 sein und mit Neigung um eine Achse in eine Richtung positiv und in die andere Richtung derselben Achse negativ werden. Bei ungefähr 45° Neigung soll der Wert 45 ausgegeben werden.\n",
    "\n",
    "?????????\n",
    "\n",
    "Fügen Sie einen C-Codeauszug (wenige Zeilen) hier hinzu. Geben Sie die vollständige Source-Datei mit ab (ohne Projektdateien!).\n",
    "\n",
    "**Code-Snippet**"
   ]
  },
  {
   "cell_type": "markdown",
   "id": "217d57bd-5700-416a-9dbf-ef00ebd5068a",
   "metadata": {},
   "source": []
  },
  {
   "cell_type": "markdown",
   "id": "cdbc6536-fd94-447e-aefd-fe7d249888ae",
   "metadata": {},
   "source": [
    "### Alarmanlage\n",
    "Konfigurieren Sie einen Trigger (Bewegungsschalter? Alarmanlage?), der bei Ruhelage des Boards 0 ist (oder keine Ausgabe generiert). Bei Bewegung aus der Ruhelage (entweder um/entlang allen Achsen oder nur um/entlang einer) soll eine 1 ausgegeben werden. Es soll weder “1”-Ausgaben in Ruhelage geben (“false positive”) noch “0”-Ausgaben bei Bewegung (“false negatives”). Fügen Sie einen C-Codeauszug (wenige Zeilen) hier hinzu. Geben Sie die vollständige Source-Datei mit ab (ohne Projektdateien!).\n",
    "\n",
    "**Code-Snippet** "
   ]
  },
  {
   "cell_type": "markdown",
   "id": "2a183e48-6819-416b-a729-d3ff33bd3fef",
   "metadata": {},
   "source": []
  },
  {
   "cell_type": "markdown",
   "id": "76fe4a18-ba30-4a11-8d27-dd5f10378948",
   "metadata": {},
   "source": [
    "## Kommunikationsanalyse\n",
    "Beschaffen Sie sich den Schaltplan des Nucleo-Boards IKS01A3 (siehe EMIL-/MS-Teams- Raum). Fragen Sie ggf. die Laborassistenz.\n",
    "\n",
    "An welchen Kontakten in ihrem Gesamtsystem können die Signale des I2C-Buses gemessen werden?\n",
    "\n",
    "**Anschlüsse**"
   ]
  },
  {
   "cell_type": "markdown",
   "id": "fa4d9db2-e6d1-4b87-ba86-282d9272e3bd",
   "metadata": {},
   "source": []
  },
  {
   "cell_type": "markdown",
   "id": "0be4e9ff-d130-45f0-999b-0e03f48c3bb7",
   "metadata": {},
   "source": [
    "Untersuchen Sie den Zugriff auf das Who-Am-I-Register eines Sensors. \n",
    "Führen Sie eine Messung des Zugriffs mit dem Oszilloskop durch und betrachten Sie einen Bustransfer. Wie wird der Sensor hier angesprochen? Wie antwortet der Sensor? Fügen Sie einen “Screen Shot” der Übertragung hier mit ein. Analysieren Sie die Signale nach dem Protokollstandard und ergänzen Sie Ihre Ergebnisse (Bits etc.) in dem Signalverlauf.\n",
    "\n",
    "Hinweis: Es müssen ggf. mehrere Messungen durchgeführt werden und zu einem Screen Shot zusammengesetzt werden.\n",
    "\n",
    "**Protokollanalyse**"
   ]
  },
  {
   "cell_type": "markdown",
   "id": "4eeaaa6d-aa41-4a6c-8961-2cbd7a1b3900",
   "metadata": {},
   "source": []
  },
  {
   "cell_type": "markdown",
   "id": "425a88cc-3d69-4c28-a51f-b85a10d7570d",
   "metadata": {},
   "source": [
    "Welche Datenrate im Sinne von Messungen/s (Datenzeile/s) kann Ihr Gesamtsystem über die serielle Schnittstelle (RS232) in der Konfiguration aus der Teilaufgabe \"Analyse des Sensorverhaltens\" zum Host maximal übertragen? Kein Delay im Programm. Schätzen Sie den Wert begründet ab.\n",
    "\n",
    "**Datenrate**"
   ]
  },
  {
   "cell_type": "markdown",
   "id": "172eac76-ef7a-4c4a-9ce3-f39e23123477",
   "metadata": {},
   "source": []
  },
  {
   "cell_type": "markdown",
   "id": "9a0bc8c1-211e-4622-9062-607684b6a09e",
   "metadata": {},
   "source": [
    "## Feature-Generation / -Selection"
   ]
  },
  {
   "cell_type": "markdown",
   "id": "78375da0-75fb-4c5f-b5e6-c9d080187427",
   "metadata": {},
   "source": [
    "### Data Buffer\n",
    "Im Folgenden sollen Messwerte zunächst lokal auf dem Mikrocontroller gesammelt und dann getrennt weiterverarbeitet werden. Ändern Sie Ihr Mikrocontroller-Programm (am besten als neue C-Datei oder neues Projekt bzw. sichern Sie die C-Datei aus der letzten Aufgabe). Die Messwerte sollen in einem Puffer gesammelt werden, ohne diese gleich an den Host-PC zu übertragen. Die Puffergröße soll dabei (zur Compile-Zeit) konfigurierbar sein. Sie brauchen mindestens 1024 Samples von\n",
    "\n",
    "1. den drei Beschleunigungsachsen des LIS2DW12, \n",
    "2. den drei Beschleunigungsachsen des LSM6DS0,\n",
    "3. den drei Gyroskopachsen des LSM6DS0,\n",
    "4. den drei Magnetometerachsen des LIS2MDL\n",
    "\n",
    "(also insgesamt mindestens 1024 * 12 Integerwerte). Geben Sie danach den Inhalt des Pufferspeichers (alle mindestens 1024 12-dimensionalen Samples) in einem CSV-kompatiblen Format über die serielle Schnittstelle aus. Implementieren Sie beide Speicherzugriffe (Messwerte speichern und Daten ausgeben) innerhalb derselben Funktion (main oder eine andere).\n",
    "\n",
    "Entfernen Sie den Aufruf “wait(1.5);”, falls noch nicht geschehen. Wiederholen Sie den Ablauf Datensammlung–Datenausgabe in einer Endlosschleife. Stellen Sie die Baudrate von mindestens 115.200 Baud ein. Fügen Sie einen Codeauszug hier hinzu-\n",
    "\n",
    "**Code Snippet**"
   ]
  },
  {
   "cell_type": "markdown",
   "id": "7dd70b54-dcee-4909-89c5-a3715f3edb39",
   "metadata": {},
   "source": []
  },
  {
   "cell_type": "markdown",
   "id": "b0c526e7-3f77-4e69-8693-2bdbc9361e22",
   "metadata": {},
   "source": [
    "Deklarieren Sie den Pufferspeicher einmal lokal (in der main- oder ggf. der eigenen Funktion) und ändern Sie die Größe auf 1.000.000 Samples. Kompilieren Sie das Programm. Ist dies möglich, was passiert? Wie groß ist der benötigte Speicher und wieviel Speicher steht in dem Mikrocontroller zur Verfügung?\n",
    "\n",
    "**Ergebnis**"
   ]
  },
  {
   "cell_type": "markdown",
   "id": "389ae7c4-bbc2-4d5c-8eb5-a44a7a3c5469",
   "metadata": {},
   "source": []
  },
  {
   "cell_type": "markdown",
   "id": "6114d2f3-fc0a-4d50-8351-c14ba50b62df",
   "metadata": {},
   "source": [
    "Deklarieren Sie den Pufferspeicher global und wiederholen Sie den Versuch, einen 1.000.000 Samples großen Zwischenspeicher zu verwenden. Was passiert nun?\n",
    "\n",
    "**Ergebnis**"
   ]
  },
  {
   "cell_type": "markdown",
   "id": "d177f190-bdd4-4795-a30a-933b641c40f3",
   "metadata": {},
   "source": []
  },
  {
   "cell_type": "markdown",
   "id": "18175135-bc62-4751-a5cc-a217a675f4df",
   "metadata": {},
   "source": [
    "### Sampling Duration\n",
    "Fügen Sie Ihrem Programm ein LED-Objekt hinzu. Alternativ zur mbed- Dokumentation (s.o.) können Sie sich auch das Nucleo-“Hello World”-Beispiel “Blink LED” anschauen. Fragen Sie ggf. Ihre Laborassistenz.\n",
    "Schalten Sie die “LED1” ein, bevor Sie Messdaten in den Pufferspeicher einlesen. Schalten Sie sie wieder aus, bevor Sie die Daten über die serielle Schnittstelle ausgeben. Messen Sie die Zeitdauer für das Einlesen der Daten mittels Oszilloskop.\n",
    "\n",
    "**Zeitdauer**"
   ]
  },
  {
   "cell_type": "markdown",
   "id": "8d82c25e-e1f3-4e0f-b39f-e9bebe2e689d",
   "metadata": {},
   "source": []
  },
  {
   "cell_type": "markdown",
   "id": "3e3f5543-2977-4db7-9dc3-8ac8c591c571",
   "metadata": {},
   "source": [
    "### Timestaps\n",
    "Nicht jeder Schleifenduchlauf ist gleich lang und oftmals benötigt mann eine genaue Information darüber wann die Daten (Sampling) erfasst wurden.\n",
    "\n",
    "Fügen Sie Ihrem Programm einen Timer hinzu. Suchen Sie Informationen hierzu und fragen Sie ggf. Ihre Laborassistenz. \n",
    "\n",
    "Erfassen Sie den Timerstand (in $\\mu s$) vor Beginn des Messwertauslesens. Speichern Sie die einzelnen Zeitstempel mit im Puffer der Sensordaten. Geben Sie entsprechend zu Beginn jeder CSV-Zeile einmal den jeweiligen Zeitstempel mit aus.\n",
    "\n",
    "In welchem Bereich liegt die Zeitdifferenz von einem zum folgenden Sample? Ist der Wert konstant? Wenn ja, in welchem Bereich variiert er? Geben Sie den Datensatz und den Code mit ab.\n",
    "\n",
    "**Zeitanalyse**"
   ]
  },
  {
   "cell_type": "markdown",
   "id": "e8f28031-8242-44a2-8aed-043a93aeec4a",
   "metadata": {},
   "source": []
  },
  {
   "cell_type": "markdown",
   "id": "b31312b6-2708-48a1-a8e4-2649dbfcdc61",
   "metadata": {},
   "source": [
    "## Beispieldatensätze für Klassifikationen\n",
    "Für das folgende Praktikum benötigen wir mehrere Testdatensätze (siehe unten) (jeweils mindestens 1024 direkt nacheinander aufgenommene Samples lang). Mit Hilfe der LED kann dabei beobachtet werden, wie lange das Füllen des Puffers dauert, so dass die Bewegungen jeweils immer innerhalb dieser Zeit abgeschlossen werden. Nehmen Sie folgende Datensätze auf:\n",
    "\n",
    "1. Nucleo-Board in Ruhelage auf dem Tisch\n",
    "2. Nucleo-Board in Ruhelage, dann Drehung zum Aufrichten, Nucleo-Board in Ruhe stehend, Drehung zurück in Liegeposition und wieder in Ruhelage\n",
    "3. Nucleo-Board in Ruhelage, gradlinige Bewegung in eine Richtung hin und wieder zurück\n",
    "4. Nucleo-Board in Ruhelage, dann mehrmals gradlinige Bewegung in eine Richtung und wieder zurück\n",
    "5. Nucleo-Board in Ruhelage, dann unterschiedliche gradlinige und rotatorische Bewegungen – aber alle “liegend” auf dem Tisch, das heißt in einer Ebene\n",
    "6. Nucleo-Board in Ruhelage, dann diverse unterschiedliche Bewegungen (gradlinig und rotatorisch) über alle drei Raumachsen\n",
    "\n",
    "Schauen Sie sich den ersten und den zweiten aufgenommenen Datensatz (nach der Liste oben) an. Verhalten sich alle Sensorwerte so, wie Sie es erwartet haben? Wenn nein, welche nicht? Haben Sie eine Vermutung warum nicht? Wenn ja, warum sehen die Messkurven gerade so aus? \n",
    "\n",
    "Fügen Sie Ihrem Protokoll zwei interessante Plots hinzu. Geben Sie an, an welchen Stellen/in welchen Bereichen welche Bewegung ausgeführt wurde.\n",
    "\n",
    "Hinweis: Dokumentieren/skizzieren Sie bei den komplexeren Bewegungen (3./4./5.) Ihre Bewegungsmuster, da später die Daten den Bewegungsabschnitten zugeordnet werden sollen."
   ]
  },
  {
   "cell_type": "code",
   "execution_count": null,
   "id": "e2ee410d-88ba-4b6f-aff8-4817d169b382",
   "metadata": {},
   "outputs": [],
   "source": []
  }
 ],
 "metadata": {
  "kernelspec": {
   "display_name": "Python 3 (ipykernel)",
   "language": "python",
   "name": "python3"
  },
  "language_info": {
   "codemirror_mode": {
    "name": "ipython",
    "version": 3
   },
   "file_extension": ".py",
   "mimetype": "text/x-python",
   "name": "python",
   "nbconvert_exporter": "python",
   "pygments_lexer": "ipython3",
   "version": "3.10.9"
  },
  "vscode": {
   "interpreter": {
    "hash": "397704579725e15f5c7cb49fe5f0341eb7531c82d19f2c29d197e8b64ab5776b"
   }
  }
 },
 "nbformat": 4,
 "nbformat_minor": 5
}
