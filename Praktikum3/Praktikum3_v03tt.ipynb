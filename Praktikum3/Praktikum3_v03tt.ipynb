{
 "cells": [
  {
   "cell_type": "markdown",
   "id": "eafc4fcf-0a48-41c8-a92e-e77575c87916",
   "metadata": {},
   "source": [
    "# Praktikum 3 Intelligente Sensorsysteme\n",
    "Tim Tiedemann, Thomas Lehmann, Tobias De Gasperis\n",
    "\n",
    "Version 11.05.2023"
   ]
  },
  {
   "cell_type": "markdown",
   "id": "7cf12a59-7e4b-4e09-89f9-447fff74170b",
   "metadata": {},
   "source": [
    "# Einfache intelligente Sensoren und Datenvorverarbeitung\n",
    "Im Praktikum 3 geht es um die Ermittlung von Eigenschaften einiger komplexerer Sensoren, sowie die Datenvorverarbeitung und die Feature-Erzeugung.\n",
    "\n",
    "Lesen Sie sich die Aufgaben gut durch. Sollten Sie eine Aufgabe nicht lösen können, so beschreiben Sie zumindest, wie weit Sie gekommen sind und auf welche Weise Sie vorgegangen sind.\n",
    "\n",
    "Beachten Sie auf der methodischen Seite, dass Sie die jeweiligen Ergebnisse Ihrer Analysen kommentieren. Alle Diagramme sind korrekt zu beschriften.\n",
    "\n",
    "Die Aufgaben sind direkt hier als Protokoll zu bearbeiten. Das abgegebene Notebook soll ausführbar sein. Daneben ist der PDF-Export des Notebook mit abzugeben."
   ]
  },
  {
   "cell_type": "markdown",
   "id": "e73a4e8c-5787-4bf3-a1ec-90cc83673471",
   "metadata": {},
   "source": [
    "Autoren des Protokolls: Khanh Nhu Pham, Berivan Elmas"
   ]
  },
  {
   "cell_type": "markdown",
   "id": "0b6b3778-98e8-47b9-8d48-3ae77b34c216",
   "metadata": {},
   "source": [
    "# Hintergrund\n",
    "Aus den gesammelten Daten/Signalen kann man weitere Eigenschaften (Features) ableiten. Dazu müssen diese zum Teil erst geeignete vorverarbeitet werden, z.B. mit Filtern geglättet werden.\n",
    "\n",
    "Im industriellen Umfeld kommen komplexere Sensorsysteme mit einer höheren Genauigkeit zum Einsatz. Die Integration und Inbetriebnahme ist oftmals nicht ganz klar, deshalb soll das exemplarisch ausprobiert werden und ein Vergleich zwischen Sensorsystemen vorgenommen werden.\n",
    "\n",
    "Aus dem letzten Praktikum wurden Bewegungsdaten erfasst. Die Datenmenge ist für eine einfache Analyse zu umfangreich. Mit Hilfe der Principle Component Analysis (PCA) soll die Datendimension reduziert und die Ergebnisse interpretiert werden."
   ]
  },
  {
   "cell_type": "markdown",
   "id": "5127ae25-cf7c-4472-8a0b-f26f8c59f18e",
   "metadata": {},
   "source": [
    "# Vorbereitungsaufgaben\n",
    "## Komplexe Sensoren\n",
    "Analysieren Sie die zugehörige Datenblätter und Handbücher (siehe Teams) für die Sensoren SensoPart FT 80 und Welotec OWTC1. Um was für Sensoren handelt es sich jeweils und welches Messprinzip wird verwendet? Über welche Schnittstellen bekommt man die Messwerte? Welche weiteren Daten könnten für die Praktikumsaufgabe relevant sein? Hinweis: Im Labor steht keine RS485-Schnittstelle zur Verfügung.\n",
    "\n",
    "Für den Sensor Welotec OWTC1 benötigen Sie noch eine Folge von Kommandos, um laufende Messwerte auslesen zu können. Hierzu hilft Ihnen das Dokument zu dem Sensor “Welotec OWTC-1” in MS-Teams/EMIL weiter. Wie muss die Schnittstelle konfiguriert werden und welche Kommandos müssen Sie senden?\n",
    "\n",
    "Als weiteres System wir im Praktikum der Joy-Pi-Koffer eingesetzt, welcher gleich sehr viele Sensoren beinhaltet. Verschaffen Sie sich einen ersten Überblick über diesen Aufbau. Welches Teilsystem ist für die Entfernungsmessung geeignet?\n",
    "\n",
    "1. SensoPart FT 80 RLA-500-S1L8 \n",
    "3. Welotec OWTC1\n",
    "3. Koffer Joy-Pi von joy-it\n",
    "\n",
    "**Sensorenanalyseergebnisse:**"
   ]
  },
  {
   "cell_type": "markdown",
   "id": "e3568755-8972-40b1-a648-825c9496c3e7",
   "metadata": {},
   "source": [
    "*OWTC 1*\n",
    "- Distanzmessgerät für die industrielle Anwendung\n",
    "- führt kontaktlose Distanzmessungen aus, indem es die Reflektion des vom Modul ausgesandten Laserstrahls auswertet\n",
    "- die Werte werden über die seriellen Schnittstellen RS-232 und RS-422 geliefert\n",
    "- die Messfrequenz geht bis 6Hz und hat eine Genauigkeit von 1.5mm\n",
    "- Baudrate von 19200\n",
    "- je nach Konfiguration beträgt der Output 0-20mA oder 4-20mA\n",
    "- Betriebsspannung von 9-30V\n",
    "- statische Messsicherheit von 95.4%\n",
    "- Messbereich von 0.05 bis 500m\n",
    "\n",
    "    *Konfiguration*\n",
    "    - Betriebsart (Automatic oder Controlled)\n",
    "    - Konf.kommandos im Abschnitt 8.3\n",
    "    \n",
    "\n",
    "*FT 80*\n",
    "- Distanzmessgerät für kurze Entfernungen\n",
    "- führt Messungen nach Triangulationsprinzip aus über Auswertung der Position des Lasers aus dem Detektor des Moduls\n",
    "- wird über serielle Schnittstelle RS-485 ausgelesen (Halbduplex)\n",
    "    --> möglicherweise RS-232 mit Adapter anpassen?\n",
    "- Messfrequenz von 2.5kHz\n",
    "- Baudrate von 38400, 1 Selektionsbit und 7Daten-/Adressbit\n",
    "- Output beträgt 4-20mA\n",
    "- Betriebsspannung 18-30V\n",
    "- Messgenauigkeit von 0.01% des Messbereichs\n",
    "- misst im Bereich von 250-750mm\n",
    "\n",
    "- (braucht 5min Aufwärmzeit für präzisere Messung)\n",
    "\n",
    "*JOY-PI*\n",
    "- Zur Distanzmessung wurde ein Ultraschallsensor verbaut"
   ]
  },
  {
   "cell_type": "markdown",
   "id": "bb6876b9-d62b-4f2e-8963-e48e0cedc2e2",
   "metadata": {
    "tags": []
   },
   "source": [
    "## Datensätze\n",
    "Schliessen Sie die Aufnahme der Messdaten für die verschiedenen Bewegungen aus dem Praktikum 2 ab, damit Sie für die folgenden Aufgaben geeignete Daten mit 12 Dimensionen haben."
   ]
  },
  {
   "cell_type": "markdown",
   "id": "e3a13536-be2f-45f4-a51e-adcec495b336",
   "metadata": {},
   "source": [
    "# Im Labor"
   ]
  },
  {
   "cell_type": "markdown",
   "id": "ad956e31-648e-4968-ad7f-47e22952feb4",
   "metadata": {
    "tags": []
   },
   "source": [
    "## Datenvorverarbeitung und Feature-Generation\n",
    "Erstellen Sie Python-Scripte für die Vorverarbeitung Ihrer Messdaten mittels Filter."
   ]
  },
  {
   "cell_type": "markdown",
   "id": "1593d8e0-a692-4e4b-b896-6552017537e4",
   "metadata": {},
   "source": [
    "Verwenden Sie für die Anwendung eines Filters den Datensatz für das Bewegungsprofil 2 aus dem letzten Praktikum."
   ]
  },
  {
   "cell_type": "markdown",
   "id": "2f777891-9931-4f02-a3f1-60232d97d092",
   "metadata": {},
   "source": [
    "Filtern Sie die Daten von einem der Beschleunigungssenoren für alle drei Achsen mit jeweils einem IIR-Filter erster Ordnung (siehe Vorlesung); mindestens 1000 Samples. Implementieren Sie das Filter so, dass man es auch für einen Live-Betrieb (jeweils ein Sample pro Schleifendurchlauf) verwendet werden kann.\n",
    "\n",
    "**Code**"
   ]
  },
  {
   "cell_type": "code",
   "execution_count": null,
   "id": "006a8929-471f-4dcb-9feb-6e309fbf4868",
   "metadata": {},
   "outputs": [],
   "source": []
  },
  {
   "cell_type": "markdown",
   "id": "ec70f2d2-5850-47a4-b7cc-261a1e0399aa",
   "metadata": {},
   "source": [
    "Stellen Sie auch die sich ergebenden gefilterten Daten über die Zeit in Sekunden dar. Der Bereich darf auf einen relevanten Bereich beschränkt werden."
   ]
  },
  {
   "cell_type": "code",
   "execution_count": null,
   "id": "d2793c24-02dd-451d-aaa5-53005e333fd3",
   "metadata": {
    "tags": []
   },
   "outputs": [],
   "source": []
  },
  {
   "cell_type": "markdown",
   "id": "144a524a-5a5f-45ab-a748-017807a73f34",
   "metadata": {},
   "source": [
    "Welchen Faktor wählen Sie für $\\alpha$? Warum haben Sie diesen Wert von $\\alpha$ gewählt?\n",
    "\n",
    "**Parameterwahl:**"
   ]
  },
  {
   "cell_type": "markdown",
   "id": "af74e349-a79f-450f-bae2-ee8d9fa6fd41",
   "metadata": {},
   "source": []
  },
  {
   "cell_type": "markdown",
   "id": "5bf70adf-2d0f-4a9c-bd8a-f900bcd0b6ad",
   "metadata": {},
   "source": [
    "Welche algorithmische Komplexität/ungefähre Komplexität in Floating-Point-Operations hat Ihre Filterfunktion?\n",
    "\n",
    "**Berechnungsaufwand**"
   ]
  },
  {
   "cell_type": "markdown",
   "id": "be690ea1-1452-4369-800e-1f1e3a8e93b9",
   "metadata": {},
   "source": []
  },
  {
   "cell_type": "markdown",
   "id": "c0e5f84d-849d-4dca-b504-b9cc8ccd354c",
   "metadata": {},
   "source": [
    "## Komplexe intelligente Sensoren\n",
    "Es sind im Labor ggf. nicht alle Sensorsysteme verfügbar, da diese auch in Forschungsprojekten verwendet werden. Die Ausgabe eines Sensors erfolgt erst, wenn ausreichend Kenntnisstand über das Vorgehen bei der Inbetriebnahme vorhanden ist.\n",
    "\n",
    "Bestimmen Sie exemplarisch mit den Sensoren Entfernungen und vergleichen Sie diese mit einer Referenzmessung."
   ]
  },
  {
   "cell_type": "markdown",
   "id": "de28549f-7320-4311-953b-42c6a4086ece",
   "metadata": {},
   "source": [
    "### Senso Part\n",
    "Versuchen Sie (in Absprache mit dem Tutor), den Sensor in Betrieb zu nehmen. Welche Optionen der Messwertausgabe verwenden Sie?"
   ]
  },
  {
   "cell_type": "markdown",
   "id": "d080f579",
   "metadata": {},
   "source": [
    "??\n",
    "- Es wurden Pin 6 und Pin 8 verwendet, die Spannungswerte wurden über das Oszilloskop ausgelesen\n",
    "\n",
    "|Distanz in cm|Messwert in V|\n",
    "|-------------|---------------|\n",
    "25| 1,98\n",
    "35| 1,65\n",
    "45| 1,32\n",
    "55| 0,991\n",
    "65| 0,672\n",
    "75| 0,374\n",
    "\n",
    "\n",
    "**Datensatz zusammen gemessen: Elmas Berivan, Khanh Nhu Pham, Jonas Wiebers**"
   ]
  },
  {
   "cell_type": "markdown",
   "id": "bd88227f-24be-45ac-94e0-1d3e4e8893a5",
   "metadata": {},
   "source": [
    "### Welotec\n",
    "Versuchen Sie (in Absprache mit dem Tutor), den Sensor in Betrieb zu nehmen."
   ]
  },
  {
   "cell_type": "markdown",
   "id": "c0170f2d",
   "metadata": {},
   "source": [
    "|Distanz in cm|Messwert in cm|\n",
    "|-------------|---------------|\n",
    "25| 25,36\n",
    "35| 35,01\n",
    "45| 44,67\n",
    "55| 55,31\n",
    "65| 65,33\n",
    "75| 75,31\n",
    "\n",
    "**Datensatz zusammen gemessen: Elmas Berivan, Khanh Nhu Pham, Jonas Wiebers**"
   ]
  },
  {
   "cell_type": "markdown",
   "id": "978cd488-037a-4536-8b8f-0f31eab65b64",
   "metadata": {},
   "source": [
    "### Joy-Pi-System"
   ]
  },
  {
   "cell_type": "markdown",
   "id": "fc5c14ee-7459-4eb1-9ca4-0c3281ef095b",
   "metadata": {},
   "source": [
    "Versuchen Sie (in Absprache mit dem Tutor), den Aufbau in Betrieb zu nehmen. Öffnen Sie ein Terminal und schauen Sie sich die Dateien unter `/Desktop/Joy-Pi/` an. Testen Sie das Script `distance.py`. Schauen Sie sich das Script an und versuchen Sie, die einzelnen Schritte nachzuvollziehen. Kopieren Sie ggf. das Script in eine eigene Datei `distance_NAME_DATUM.py` und nehmen Sie darin Änderungen vor, um das Verhalten besser verstehen zu können. Erklären Sie die Funktionsweise der durchgeführten Messung:\n"
   ]
  },
  {
   "cell_type": "code",
   "execution_count": null,
   "id": "9cf7d505-96ce-41ac-acb2-45c9483b292b",
   "metadata": {},
   "outputs": [],
   "source": []
  },
  {
   "cell_type": "markdown",
   "id": "5a319576-50f1-4006-9269-07f77e0e18aa",
   "metadata": {},
   "source": [
    "### Vergleichsmessung von Sensorsystemen\n",
    "Versuchen Sie, in einem Aufbau den zuletzt genutzten Sensor aus dem Joy-Pi-System und einen der anderen Sensoren parallel zu betreiben. Was ergeben die Messungen des einen und des anderen Sensors bei gleicher Objektentfernung?"
   ]
  },
  {
   "cell_type": "markdown",
   "id": "81f5d7d4",
   "metadata": {},
   "source": [
    "- siehe oben angegebene Tabellen"
   ]
  },
  {
   "cell_type": "markdown",
   "id": "e788a5c6-615d-4b6b-869c-228dbc84c47a",
   "metadata": {
    "tags": []
   },
   "source": [
    "### Vergleich der Sensoren über Kenndaten"
   ]
  },
  {
   "cell_type": "markdown",
   "id": "11e59bec-39e3-4b8f-8c6b-39a590e0357e",
   "metadata": {},
   "source": [
    "Vergleichen Sie die Leistungsdaten der Distanzsensoren, z.B. in einer Tabelle. Nehmen Sie hierzu auch den Entfernungsmesser mit auf, den Sie im ersten Praktikumsversuch untersucht haben. Bewerten Sie kurz die Sensoren."
   ]
  },
  {
   "cell_type": "markdown",
   "id": "c271b8bb",
   "metadata": {
    "tags": []
   },
   "source": [
    "|Sharp GP2Y0A21|SensoPart FT 80|Welotec OWTC1|Joy-Pi|\n",
    "|-|-|-|-|\n"
   ]
  },
  {
   "cell_type": "markdown",
   "id": "738a3ab7-6ef7-4375-bae5-7aa1ea5a76ff",
   "metadata": {},
   "source": [
    "## Dimensionsreduktion"
   ]
  },
  {
   "cell_type": "markdown",
   "id": "1f1e1db8-2f9e-4807-8706-f1a288afd4b3",
   "metadata": {},
   "source": [
    "Im Praktikum 2 haben Sie Daten von einem Sensorsystem mit 12 Dimensionen aufgenommen. Für die Erkennung der Bewegungsprofile sind evtl. nicht alle Dimensionen relevant. Mit Hilfe der PCA sollen Sie die relvanten Dimensionen/Features identifizieren.\n",
    "\n",
    "In dieser Analyse sollen zunächst nur die Datensätze verwendet werden, bei denen das System auf dem Tisch liegend bewegt wurde. "
   ]
  },
  {
   "cell_type": "markdown",
   "id": "f301bbca-e740-46cb-bc48-55f527ccba02",
   "metadata": {},
   "source": [
    "Führen Sie für die Datensätze (4-6) jeweils die Hauptkomponentenanalyse (PCA) mit Python durch. Hierzu können Sie Funktionen aus dem Paket `numpy` verwenden oder direkt die Klasse PCA aus dem Paket `scikit`.\n"
   ]
  },
  {
   "cell_type": "markdown",
   "id": "623c06b6",
   "metadata": {},
   "source": [
    "# numpy     \n",
    "x  = np.array(data)  \n",
    "x_ = x - x.mean(axis=) \n",
    "r = np.cov(x_.T)\n",
    "#print 'r =', r     \n",
    "evals, evecs = np.linalg.eig(r)     \n",
    "print(evals, evecs)     \n",
    "pca_score = np.matmul(x_, evecs)                 "
   ]
  },
  {
   "cell_type": "markdown",
   "id": "92e66501",
   "metadata": {},
   "source": [
    "     # Scikit\n",
    "     # Dim festlegen: pca = PCA(n_components=3)\n",
    "     # sonst besser so:\n",
    "     pca = PCA()\n",
    "     pca.fit(x)\n",
    "     pca_ratio = pca.explained_variance_ratio_\n",
    "     eigVec = pca.components_\n",
    "     pca_score = pca.transform(x)"
   ]
  },
  {
   "cell_type": "markdown",
   "id": "9dd7f606-b943-4062-92a7-367823323b84",
   "metadata": {},
   "source": [
    "Achtung: Je nach verwendeter Bibliothek wird keine Eigenwertzerlegung sondern eine Singulärwertzerlegung durchgeführt. Wenn im folgenden von “Eigenwert” die Rede ist, können Sie stattdessen die “erklärte Varianz” (absolut oder relativ) verwenden."
   ]
  },
  {
   "cell_type": "markdown",
   "id": "0c65016a-3b96-4d2b-a9fc-5213d4110bfb",
   "metadata": {},
   "source": [
    "Wählen Sie je einen Datensatz mit einer einfachen (linearen) und einen mit einer komplexen Bewegung aus. Erstellen Sie für beide Datensätze jeweils den Scree-Plot der Eigenwerte (oder der erklärten Varianz, je nach verwendetem Verfahren) als Ergebnis einer PCA auf den Datensätzen. Kann man irgendeine Aussage auf Grund der Plots im Vergleich zu dem Bewegungsmuster machen?"
   ]
  },
  {
   "cell_type": "code",
   "execution_count": null,
   "id": "cf4e9fba-789f-4078-801e-34dd133734b2",
   "metadata": {},
   "outputs": [],
   "source": []
  },
  {
   "cell_type": "markdown",
   "id": "d86178d2-3382-4d06-8825-71a6260d3ecf",
   "metadata": {},
   "source": [
    "Wählen Sie nun einen Datensatz für die weitere Bearbeitung aus. Vergleichen Sie bei dem Datensatz den Scree-Plots der \"erklärten Varianz\" mit und ohne Normalisierung: Erscheint für Sie eine Normalisierung sinnvoll? Wenn ja: in welcher Form?\n",
    "Welche Normalisierung haben Sie aus welchem Grund gewählt?\n"
   ]
  },
  {
   "cell_type": "code",
   "execution_count": null,
   "id": "b8e0d372-0fb0-4103-9b28-085312e86ec1",
   "metadata": {},
   "outputs": [],
   "source": []
  },
  {
   "cell_type": "markdown",
   "id": "374f2c8e-1366-4613-8293-99c26ce7ad22",
   "metadata": {},
   "source": [
    "Verwenden Sie dieselbe Art von Normalisierung, oder eben keine, bei den ausgewählten Datensätzen und stellen Sie den Score-Plot dar. Stellen Sie den Score auch auf der Zeitachse dar. Können Sie die Bewegungsabschnitte zuordnen? Gibt es Ähnlichkeiten zu den rohen Sensordaten? "
   ]
  },
  {
   "cell_type": "code",
   "execution_count": null,
   "id": "f362bfd6-d774-4143-b85b-0e196b3faab6",
   "metadata": {},
   "outputs": [],
   "source": []
  },
  {
   "cell_type": "markdown",
   "id": "319ae6b3-0e49-4573-93f3-6de0711eb33a",
   "metadata": {},
   "source": [
    "Wieso werden nicht alle 12 Dimensionen benötigt? Haben Sie eine Vermutung? Bedenken Sie, wie der Datensatz zu Stande gekommen ist: Wie hatten Sie das Sensor-Board bewegt? In welchem Bereich variierten die jeweils drei Dimensionen der Beschleunigung, der Winkelgeschwindigkeit und die Ausrichtung des Magnetfeldes? Betrachten Sie ggf. auch die Loadings aus den Eigenvektoren bei der Begründung."
   ]
  },
  {
   "cell_type": "code",
   "execution_count": null,
   "id": "5108935d-9d11-481e-8818-5f8cab3296ad",
   "metadata": {},
   "outputs": [],
   "source": []
  },
  {
   "cell_type": "code",
   "execution_count": null,
   "id": "ea002bdf-4041-46f9-b297-a88cb0d4dc06",
   "metadata": {},
   "outputs": [],
   "source": []
  }
 ],
 "metadata": {
  "kernelspec": {
   "display_name": "Python 3 (ipykernel)",
   "language": "python",
   "name": "python3"
  },
  "language_info": {
   "codemirror_mode": {
    "name": "ipython",
    "version": 3
   },
   "file_extension": ".py",
   "mimetype": "text/x-python",
   "name": "python",
   "nbconvert_exporter": "python",
   "pygments_lexer": "ipython3",
   "version": "3.10.9"
  },
  "vscode": {
   "interpreter": {
    "hash": "397704579725e15f5c7cb49fe5f0341eb7531c82d19f2c29d197e8b64ab5776b"
   }
  }
 },
 "nbformat": 4,
 "nbformat_minor": 5
}
