{
 "cells": [
  {
   "cell_type": "markdown",
   "id": "eafc4fcf-0a48-41c8-a92e-e77575c87916",
   "metadata": {},
   "source": [
    "Version 1.0.1 24.03.2023\n",
    "\n",
    "# Praktikum 1 Intelligente Sensorsysteme \n",
    "Tim Tiedemann, Thomas Lehmann, Roman Kusche, Tobias de Gasperis "
   ]
  },
  {
   "cell_type": "markdown",
   "id": "dedeb6fa-90d1-461f-8f9a-bafa5f68a1f2",
   "metadata": {},
   "source": [
    "# Einfaches (intelligentes) Sensorsystem\n",
    "Im Praktikum 1 geht es um die Eigenschaften eines einfachen, gerade noch nicht intelligenten Sensorsystems, sowie eine erste Sensordatenverarbeitung mittels Mikrocontroller. Es sollen dazu die Eigenschaften des Systems ermittelt und durch geeignete Software idealisiert werden.\n",
    "\n",
    "Lesen Sie sich die Aufgaben gut durch. Sollten Sie eine Aufgabe nicht lösen können, so beschreiben Sie zumindest, wie weit Sie gekommen sind und auf welche Weise Sie vorgegangen sind.\n",
    "\n",
    "Beachten Sie auf der methodischen Seite, dass es bei einem Experiment die Schritte der Dokumentation wesentlicher Aspekte des Aufbaus, der Datenerhebung, der Datenauswertung und der Kommentierung des Ergebnisses gibt. Alle Diagramme sind entsprechend korrekt zu beschriften.\n",
    "\n",
    "Die Aufgaben sind direkt hier als Protokoll zu bearbeiten. Das abgegebene Notebook soll ausführbar sein. Daneben ist der PDF-Export des Notebook mit abzugeben."
   ]
  },
  {
   "cell_type": "markdown",
   "id": "3c0f9c93-d870-4661-8761-b7419131de89",
   "metadata": {},
   "source": [
    "Autoren des Protokolls: Berivan Elmas, Khanh Nhu Pham"
   ]
  },
  {
   "cell_type": "markdown",
   "id": "10c976ec-8a7d-439f-9464-203434d6b124",
   "metadata": {},
   "source": [
    "# Fallbeschreibung\n",
    "Ein Forschungsroboter soll zur besseren Kollisionsvermeidung den Abstand zu Objekten in der Umgebung erfassen. Für die Abstandsmessung soll ein Sensorknoten entwickelt werden, der den Abstand optisch ermittelt und die Entfernung über serielle Schnittstelle in Zentimeter \\[cm\\] ausgibt. Die Übertragung erfolgt im Klartext als Gleitkommazahl. Jeder Messwert wird durch Zeilenumbruch von dem vorherigen Messwert getrennt. Es muss eine Messrate von mindestens 4 Hz erreicht werden.\n",
    "\n",
    "Für einen ersten Prototyp wurde der Sensor Sharp GP2Y0A21 ausgesucht. Als Mikrocontrollersystem steht ein Development-Kit Nucleo144-F429ZI der Firma STMicroelectronics zur Verfügung.\n",
    "\n",
    "Entwickeln Sie einen ersten Prototypen für das Sensorsystem auf Basis des Sensors und des Mikrocontrollersystems. Beurteilen Sie dabei die Qualität des Sensorsystems.\n"
   ]
  },
  {
   "cell_type": "markdown",
   "id": "dd218564-00b5-4517-8585-e95e261dd740",
   "metadata": {},
   "source": [
    "# Vorbereitungsaufgaben\n",
    "## Mikrcontroller\n",
    "Beschaffen Sie sich Datenblätter und ggf. weiteres Informationsmaterial zu dem ITS-Mikrocontroller-Board mit dem Nucleo144-F429ZI-Board. Was für ein Mikrocontroller ist darauf verbaut? Welche Informationen in den Datenblättern sind für die Bearbeitung der Praktikumsaufgabe relevant (auflisten)?"
   ]
  },
  {
   "cell_type": "markdown",
   "id": "51d4e74e-253f-4efc-8b6f-ddd9ef7538ea",
   "metadata": {},
   "source": [
    "Auf dem Board ist der Mikrocontroller STM32 verbaut\n",
    "\n",
    "Abschnitte:\n",
    "1. Features\n",
    "2. Ordering Information\n",
    "3. Development Environment\n",
    "4. Conventions\n",
    "5. Quick Start\n",
    "6. Hardware Layout and Configuration\n",
    "7. Nucleo -144 (MB1137) information\n",
    "8. Federal Communications Commission (FCC) and ISED Canada Compliance Statements \n",
    "9. CE conformity\n",
    "10. Revision History\n",
    "\n",
    "Für die Bearbeitung der Aufgabe und die korrekte Verwendung des Boards ist wichtig zu wissen, welche Pins und Ports zu Verfügung stehen, welche Adressen im Rahmen des Memory Mappings nutzbar sind und wie viel die Versorgungsspannung und das maximale Potential beträgt."
   ]
  },
  {
   "cell_type": "markdown",
   "id": "aec35bd9-b30f-4c9a-8f5f-d08b0145c6d4",
   "metadata": {},
   "source": [
    "## Sensor\n",
    "Es soll der Sensor vom Typ Sharp GP2Y0A21 verwendet werden. Beschaffen Sie sich das entsprechende Datenblatt. Welche Quellen für Datenblätter gibt es? Welche haben Sie warum gewählt?"
   ]
  },
  {
   "cell_type": "markdown",
   "id": "4086357e-683f-408b-9245-2fc1e826e95a",
   "metadata": {},
   "source": [
    "- Der Hersteller\n",
    "- Distributoren\n",
    "\n",
    "- Es wurden Herstellerseiten gewählt, da diese als die verlässlichste Quelle gewertet wurden."
   ]
  },
  {
   "cell_type": "markdown",
   "id": "a15f2d5f-97da-4040-8553-4043064c897a",
   "metadata": {},
   "source": [
    "Welche Abschnitte gibt es grob in dem Datenblatt? Welche Informationen in dem Datenblatt sind für die Bearbeitung der Praktikumsaufgabe relevant (auflisten)?"
   ]
  },
  {
   "cell_type": "markdown",
   "id": "bec1f5e4-4f43-4c69-b1a8-95319559338a",
   "metadata": {},
   "source": [
    "- Allgemeine Informationen zum Sensor\n",
    "- Aufbau des Sensors (innerlich und äußerlich)\n",
    "- Angaben zu optimalen Konditionen für den Betrieb\n",
    "- Darstellungen zum Verhalten der Distanzmessung\n",
    "- Richtlinien und Nutzungshinweise\n",
    "\n",
    "Die Angaben zu optimalen Konditionen sowie die Darstellungen zum Verhalten der Distanzmessung sind von Relevanz, um den Sensor nicht zu beschädigen und die gemessenen Werte korrekt abzulesen und zu werten."
   ]
  },
  {
   "cell_type": "markdown",
   "id": "e3568755-8972-40b1-a648-825c9496c3e7",
   "metadata": {},
   "source": [
    "Um was für eine Art von Sensor handelt es sich? Beschreiben Sie kurz das Funktionsprinzip des Sensors."
   ]
  },
  {
   "cell_type": "markdown",
   "id": "09f62a5f-84e2-4593-9074-5887f251903c",
   "metadata": {},
   "source": [
    "Der Sensor ist ein Abstandssensor, welcher mit einer Infrarot-Diode und einem optischen Positionssensor funktioniert. Der Positionssensor kann dann den Lichtpunkt, welcher von der Diode stammt und vom gemessenen Objekt reflektiert wird, messen."
   ]
  },
  {
   "cell_type": "markdown",
   "id": "27356a95",
   "metadata": {},
   "source": [
    "## Vorbereitung auf das Labor\n",
    "\n",
    "Lesen sie die Aufgaben, welche im Labor durchgeführt werden sollen durch.\n",
    "\n",
    "Erstellen Sie, wenn noch nicht vorhanden einen github-Account um Zugang zu der bereitgestellten Software für das ITS-BRD zu bekommen. Teilen Sie den Namen ihres github-Accounts über die entsprechende Buchungsliste mit (siehe Teams-Raum).\n",
    "\n",
    "Legen Sie ein neues Projekt mit hilfe der Batch-Datei newProgramADC.bat aus dem Submodul ITS_BRD_Sensorik an. Versuchen Sie dieses Projekt zu öffnen und zu kompilieren.\n",
    "\n",
    "Sammeln Sie alle Fragen und Probleme auf die Sie dabei stoßen."
   ]
  },
  {
   "cell_type": "markdown",
   "id": "abfdb9c6",
   "metadata": {},
   "source": [
    "- Sind Channels Pins?\n",
    "- Digitale Entfernungsmessung: Systemverhalten des Sensors in Kombination mit dem Mikrocontroller????\n",
    "- Korrekturfunktion: Was ist das Modell und was ist die Konfiguration einer Korrekturmethode?"
   ]
  },
  {
   "cell_type": "markdown",
   "id": "c94c0917-4017-4a74-a565-1e97a9fe26d1",
   "metadata": {},
   "source": [
    "# Im Labor"
   ]
  },
  {
   "cell_type": "markdown",
   "id": "951d04ac-a477-40c5-b251-14e9da4ced6e",
   "metadata": {},
   "source": [
    "## Analoge Entfernungsmessung"
   ]
  },
  {
   "cell_type": "markdown",
   "id": "132f6b3a-7da9-48d0-90c8-4f187cc03bbc",
   "metadata": {},
   "source": [
    "Nehmen Sie den Sensor Sharp GP2Y0A21 in Absprache mit dem Tutor mit Labornetzteil und Oszilloskop in Betrieb. Skizzieren Sie vorab einen Schaltplan, sprechen diesen mit dem Tutor ab und bauen Sie dann die Verdrahtung auf. \n",
    "\n",
    "Fügen Sie die Skizze hier ein."
   ]
  },
  {
   "cell_type": "markdown",
   "id": "0058302f-5d37-4c0c-9f8b-c251ecc6769d",
   "metadata": {},
   "source": [
    "Untersuchen Sie das Verhalten des Sensors. Was beobachten Sie?"
   ]
  },
  {
   "cell_type": "markdown",
   "id": "ae61f483-1937-4405-bd7c-b1d51faff935",
   "metadata": {},
   "source": []
  },
  {
   "cell_type": "markdown",
   "id": "2c971a0b-f353-41a0-87fa-0d9de58288f1",
   "metadata": {},
   "source": [
    "Wählen Sie sechs Entfernungen aus und messen Sie jeweils das Ausgangssignal des Sensors.\n",
    "Verwenden Sie das Anhalten des Scans, um die Breite des Rauschens abzuschätzen. Alternativ kann die Min-/Max-Funktion des Oszilloskops helfen, um Minimal- und Maximalwert zu messen – aber Achtung: Ausreißer sollen hierbei nicht beachtet werden! Für Ausreißer in Messsignalen werden wir noch andere Methoden betrachten.\n",
    "\n",
    "Fügen Sie hier eine Tabelle mit den Messwerten (Distanz, Messwert, Rauschbreite) ein. Welche Einheit haben die Werte? "
   ]
  },
  {
   "cell_type": "markdown",
   "id": "08edb398",
   "metadata": {},
   "source": [
    "| Distanz | Messwert | Rauschbreite |\n",
    "|---|---|---|\n",
    "|5cm|3V|200mV|\n",
    "|10cm|2.56V|100mV|\n",
    "|25cm|900mV|100mV|\n",
    "|40cm|600mV|100mV|\n",
    "|55cm|500mV|120mV|\n",
    "|70cm|400mV|120mV|\n"
   ]
  },
  {
   "cell_type": "markdown",
   "id": "a6000bb0-cf89-4832-aa70-1ce5f69688c8",
   "metadata": {},
   "source": [
    "Stellen Sie Ihre Messwerte graphisch in einem linearen Koordinatensystem dar. Versuchen Sie, eine Funktion $y = y_0 + m · x$ entlang Ihren Messdaten zu legen. Wie haben Sie die Koeffizienten der Funktion ermittelt? Wie gut passt das lineare Modell zu Ihren Daten? Haben Sie eine Erklärung dafür?"
   ]
  },
  {
   "cell_type": "code",
   "execution_count": 57,
   "id": "4713f6b2",
   "metadata": {},
   "outputs": [
    {
     "data": {
      "image/png": "[encoded data removed]",
      "text/plain": [
       "<Figure size 432x288 with 1 Axes>"
      ]
     },
     "metadata": {
      "needs_background": "light"
     },
     "output_type": "display_data"
    }
   ],
   "source": [
    "import matplotlib.pyplot as plt\n",
    "\n",
    "fig, ach = plt.subplots()\n",
    "\n",
    "messwerte = [3000, 2560, 800, 600, 500, 400]\n",
    "distanzen = [5, 10, 25, 40, 55, 70]\n",
    "#zusammenfassen der x(distanzen)- und der zugehörigen y(messwerte)-Werte in Paare \n",
    "\n",
    "summeX = 0\n",
    "summeY = 0\n",
    "\n",
    "for i in range(len(messwerte)):\n",
    "    summeX += distanzen[i]\n",
    "    summeY += messwerte[i]\n",
    "\n",
    "durchschnittX = summeX / len(distanzen)\n",
    "durchschnittY = summeY / len(messwerte)\n",
    "\n",
    "#Zähler für die Steigungsberechnung\n",
    "z = 0\n",
    "for i in range(len(messwerte)):\n",
    "    z += (distanzen[i] - durchschnittX) * (messwerte[i] - durchschnittY)\n",
    "\n",
    "#Nenner für die Steigungsberechnung\n",
    "n = 0\n",
    "for i in range(len(messwerte)):\n",
    "    n += pow((distanzen[i] - durchschnittX), 2)\n",
    "\n",
    "steigung = z / n\n",
    "\n",
    "y = durchschnittY - steigung * durchschnittX\n",
    "\n",
    "#Messpunkte plotten\n",
    "plt.plot(distanzen, messwerte, 'bo')\n",
    "\n",
    "#Regressionslinie plotten\n",
    "plt.plot(distanzen, [steigung * xi + y for xi in distanzen], color='red')\n",
    "\n",
    "#Achsen beschriften\n",
    "ach.set_xlabel('Distanz[cm]')\n",
    "ach.set_ylabel('gemessene Spannung[mV]')\n",
    "\n",
    "plt.show()\n"
   ]
  },
  {
   "cell_type": "markdown",
   "id": "a4d651ca",
   "metadata": {},
   "source": [
    "- Das lineare Modell kann lediglich den abfallenden Trend der Messwerte darstellen, passt jedoch nicht zu den\n",
    "Daten, da diese teilweise zu stark gestreut sind und von der geraden abweichen."
   ]
  },
  {
   "cell_type": "markdown",
   "id": "cec99541-0af6-4ebb-bcbe-045dfad7ec2d",
   "metadata": {},
   "source": [
    "Erkennen Sie irgendwelche Probleme bei diesem Versuchsaufbau oder gab es Fehlannahmen über das erwartete Verhalten? Beschreiben Sie kurz."
   ]
  },
  {
   "cell_type": "markdown",
   "id": "16cd2161-c630-444c-af9d-b9b40c94da99",
   "metadata": {},
   "source": [
    "- Die Messwerte, welche sich im Versuch ergaben entsprachen nicht der erwarteten Genauigkeit."
   ]
  },
  {
   "cell_type": "markdown",
   "id": "e93f605a-6249-4a3e-8893-ac204d55297d",
   "metadata": {},
   "source": [
    "Was fällt Ihnen insgesamt an dem Sensorverhalten auf? Gibt es negative Eigenschaften? Erkennen Sie zwei verschiedene Arten von Störungen, die zu falschen Messwerten führen?\n"
   ]
  },
  {
   "cell_type": "markdown",
   "id": "318ccf12-71b7-4f78-bca2-ca60440ef4d5",
   "metadata": {},
   "source": [
    "- Material des gemessenen Objekts: verschiedene Dinge reflektieren unterschiedlich stark.\n",
    "- Positionierung des Objekts: bei schiefer Ausrichtung des Sensors reflektiert das Licht nicht in einem messbaren/rekonstruierbaren Winkel. Die Messwerte können sich also in der selben Distanz durch diese Winkel unterscheiden.\n",
    "- Externe Lichtquellen: Externes Licht wird ebenfalls von dem optischen Positionssensor aufgefangen und verzerrt die Messwerte."
   ]
  },
  {
   "cell_type": "markdown",
   "id": "26182231-07d2-4eb3-8211-e8a8b6f2a0ec",
   "metadata": {},
   "source": [
    "## Digitale Entfernungsmessung"
   ]
  },
  {
   "cell_type": "markdown",
   "id": "8bf5fb32-97c3-4d1b-99b1-bd557bfc318f",
   "metadata": {},
   "source": [
    "### Analyse des Vorarbeiten in der Software\n",
    "Im Rahmen der Vorauswahl von Sensor und Mikrocontroller-Board wurde schon ein erstes Beispielprojekt erstellt. Das Keil-Projekt erhalten Sie über github\n",
    "\n",
    "Eventuell muss in der Keil-Umgebung vor dem / beim ersten Start die Unterstützung des verwendeten Mikrocontrollers nachinstalliert werden."
   ]
  },
  {
   "cell_type": "markdown",
   "id": "e93a4a4f-9585-41c6-b539-e12acbe8c7b5",
   "metadata": {},
   "source": [
    "Analysieren Sie sich das zur Verfügung gestellte Projekt. Was wurde bereits in den Vorarbeiten erledigt? Wo/wie werden die Mikrocontroller-internen Komponenten angesteuert? Wo die initiale Konfiguration der Mikrocontroller-internen Komponenten? Wo findet ein Zugriff auf die ADC-Ergebnisse statt? Insbesondere, wo findet die Board-spezifische Konfiguration statt: An welchem Pin des Controllers wird der Analogwert eingelesen?"
   ]
  },
  {
   "cell_type": "markdown",
   "id": "f2356451-e0db-4980-b9ce-802df5f11ce6",
   "metadata": {},
   "source": [
    "Was wurde bereits in den Vorarbeiten erledigt?\n",
    "- ADC Funktionen und HAL sind bereits zur Verfügung gestellt\n",
    "- Funktionen für DMA, Ethernet und GPIO wurden bereits implementiert\n",
    "\n",
    "Wo/wie werden die Mikrocontroller-internen Komponenten angesteuert?\n",
    "- Drivers/STM32F4xx_HAL_Driver\n",
    "\n",
    "Wo findet ein Zugriff auf die ADC-Ergebnisse statt?\n",
    "- main.c & adc.c\n",
    "\n"
   ]
  },
  {
   "cell_type": "markdown",
   "id": "4cbed4fe-9abe-47c7-8185-0b83070e5390",
   "metadata": {},
   "source": [
    "Kompilieren Sie das Programm und laden es auf den Mikrocontroller. Prüfen Sie die Funktionsweise des Programms. \n",
    "\n",
    "Auf dem PC/Notebook benötigen Sie ein Programm, um die serielle Schnittstelle auszulesen, z.B. TeraTerm oder HyperTerm, das passend konfiguriert sein muss.\n",
    "\n",
    "Falls Sie mit der der Simulation in Keil arbeiten, müssen Sie (im Simulations-/Debug-Modus) unter “View”–“Serial Windows” den “UART#2” auswählen. Dieses Fenster ist im ursprünglichen Projekt bereits geöffnet. Fragen Sie ggf. Ihren Tutor dazu."
   ]
  },
  {
   "cell_type": "markdown",
   "id": "ecbe5b1d-5283-4099-a804-088e59c80183",
   "metadata": {},
   "source": [
    "### Analyse Systemverhalten "
   ]
  },
  {
   "cell_type": "markdown",
   "id": "0dea5b7d-1202-4e1d-9c55-8aac727c572d",
   "metadata": {},
   "source": [
    "Vor der Entwicklung des Prototypen muss nun das Systemverhalten des Sensors in Kombination mit dem Mikrocontroller ebenfalls analysiert werden."
   ]
  },
  {
   "cell_type": "markdown",
   "id": "c6179e5c-30af-4c53-99b0-e92eac144ab0",
   "metadata": {},
   "source": [
    "Skizzieren Sie Ihren Aufbau (Kästchengrafik) ihres Systems, ggf. auf Papier, und fügen Sie das Bild hier ein."
   ]
  },
  {
   "cell_type": "code",
   "execution_count": null,
   "id": "d13ee623-bd71-48e6-a6d1-4463b087b8cf",
   "metadata": {},
   "outputs": [],
   "source": [
    "\n",
    "\n"
   ]
  },
  {
   "cell_type": "markdown",
   "id": "f8d40d72-e2dc-42cf-9e93-b685061fda47",
   "metadata": {},
   "source": [
    "Schliessen Sie den Sensor an Ihr ITS-Board an. Lesen Sie Sensorwerte über den ADC im Mikrocontroller ein und übertragen die Werte über die serielle Schnittstelle an den Host. Es sollen auf dem Host die Rohwerte des ADC (digit) angezeigt werden. \n",
    "\n",
    "Nehmen Sie für die sechs Entfernungen (s.o.) jeweils sechs aufeinander folgende vom ADC ausgelesene Werte auf. Fügen Sie hier wieder die Tabelle (Distanz, sechse Messwerte, Mittelwert) mit Ihren Messwerten ein. Berechnen Sie die jeweiligen Mittelwerte Ihrer Messungen."
   ]
  },
  {
   "cell_type": "markdown",
   "id": "4162c15f",
   "metadata": {},
   "source": [
    "| Distanz | sechste Messwerte | Mittelwert |\n",
    "|------|---|---|\n",
    "|5cm|3819, 3825, 3817, 3821, 3837, 3818|3822.83|\n",
    "|10cm|3108, 3113, 3261, 3274, 3415, 3260|3238.50|\n",
    "|25cm|1324, 1316, 1328, 1317, 1309, 1371|1327.50|\n",
    "|40cm|1049, 1014, 1032, 1052, 1020, 1022|1031.50|\n",
    "|55cm|895, 867, 879, 900, 882, 912|889.17|\n",
    "|70cm|774, 753, 762, 756, 771, 751|761.17|"
   ]
  },
  {
   "cell_type": "markdown",
   "id": "a87cdce5-9a3a-42e4-a699-f6187050e7c0",
   "metadata": {},
   "source": [
    "Bewerten Sie wieder die Linearität des Systems."
   ]
  },
  {
   "cell_type": "code",
   "execution_count": 58,
   "id": "cf815d29-bbb4-43f8-8f75-2d48136d64b7",
   "metadata": {},
   "outputs": [
    {
     "data": {
      "image/png": "[encoded data removed]",
      "text/plain": [
       "<Figure size 432x288 with 1 Axes>"
      ]
     },
     "metadata": {
      "needs_background": "light"
     },
     "output_type": "display_data"
    }
   ],
   "source": [
    "figure, achse = plt.subplots()\n",
    "mittelwerte = [3822.83, 3238.50, 1327.50, 1031.50, 889.17, 761.17]\n",
    "\n",
    "achse.set_xlabel('Distanz [cm]')\n",
    "achse.set_ylabel('Mittelwert [digit]')\n",
    "\n",
    "plt.plot(distanzen, mittelwerte, 'bo')\n",
    "\n",
    "# show the plot\n",
    "plt.show()"
   ]
  },
  {
   "cell_type": "markdown",
   "id": "020551fd-6f03-47a1-8851-cf4a3b2f3c4d",
   "metadata": {},
   "source": [
    "Schlagen Sie ein oder mehrere Methoden vor um der Nichtlinearität zu begegnen! Und wieso ist eine Korrektur überhaupt notwendig?"
   ]
  },
  {
   "cell_type": "markdown",
   "id": "4f500934",
   "metadata": {},
   "source": [
    "- Lineare Approximation\n",
    "\n",
    "-> Eine Korrektur ist notwendig, da das System ansonsten unvorhersehbar wäre und die Signale verfälschen könnte (Keine Messdaten an jedem Punkt)"
   ]
  },
  {
   "cell_type": "markdown",
   "id": "54659535-9a93-49f0-8d10-555469ea5994",
   "metadata": {},
   "source": [
    "## Systementwicklung"
   ]
  },
  {
   "cell_type": "markdown",
   "id": "5627bf55-b8f4-41e2-8c7e-96909f7ea092",
   "metadata": {},
   "source": [
    "### Korrekturfunktion\n",
    "Implementieren Sie eine Korrekturmethode, mit der die ADC-Werte in Zentimeter umgerechnet werden, z.B. durch eine eigene Funktion:\n",
    "`double korrektur(uint16_t dig) { ... }`\n",
    "\n",
    "Wählen Sie die Modell und Konfiguration ihrer Korrekturmethode basierend auf Ihren Messwerten und geben Sie die Distanz jetzt in cm (mit mindestens einer Nachkommastelle) über die serielle Schnittstelle aus. Wieviele Nachkommastellen halten Sie für sinnvoll (begründen Sie ggf. über die diskrete Auflösung des Systems)?\n",
    "\n",
    "Fügen Sie hier auch den C-Code der Funktion ein."
   ]
  },
  {
   "cell_type": "markdown",
   "id": "4250e195",
   "metadata": {},
   "source": [
    "double korrekturFunktion(double adc){ \n",
    "\t\n",
    "    const double mittelwerte[] = {3822.24, 3238.12, 1327.50, 1031.04, 889.99, 761.01};\n",
    "\tconst int distanzen[] = {5, 10, 25, 40, 55, 70};\n",
    "\t\n",
    "\t\tdouble distanz = -1;\n",
    "\t\t//durchlaufen Mittelwerte und suchen nach passenden Bereich\n",
    "\t\tfor(int i = 0; i < 6; i++){\n",
    "\t\t\t//wenn ADC Wert innerhalb des aktuellen Bereichs liegt Berechnen wir lineare Interpolation\n",
    "\t\t\tif(mittelwerte[i] >= adc && adc >= mittelwerte[i+1]){\n",
    "\t\t\t\t// y(x) = y1 + (y2-y1/x2-x1)*(x-x1)\n",
    "\t\t\t\tdistanz = distanzen[i] + (distanzen[i+1] - distanzen[i]) / (mittelwerte[i+1]-mittelwerte[i]) * (adc-mittelwerte[i]);\n",
    "\t\t\t\tbreak;\n",
    "\t\t\t}\n",
    "\t\t}\n",
    "\t\treturn distanz;\n",
    "}"
   ]
  },
  {
   "cell_type": "markdown",
   "id": "4ad92f9e-a4a6-4ce1-9719-58fd7a3100e3",
   "metadata": {
    "tags": []
   },
   "source": [
    "### Qualität und Performanz\n",
    "Untersuchen Sie die Qualität Ihres Sensorsystems. Führen Sie wieder Vergleichsmessungen zwischen der Referenzentfernung (Zollstock) und Ihrem Sensorsystem durch.\n",
    "\n",
    "Führen Sie drei Messungen an Entfernungen durch, wo Sie bei Ihrer Korrekturmethode eine geringe Abweichung erwarten. Führen Sie drei weitere Messungen bei Entfernungen durch, wo Sie eine hohe Abweichung auf Grund Ihrer Korrekturmethode erwarten. Begründen Sie kurz die Wahl der Punkte.\n",
    "\n",
    "Nehmen Sie pro Entfernung sechs Messwerte auf. Welcher absolute Fehler zwischen Referenz und Mittelwert der Messwerte ergibt sich bei den Entferungen jeweils?"
   ]
  },
  {
   "cell_type": "markdown",
   "id": "b9991834-bc94-4de1-affe-c420e51905c0",
   "metadata": {},
   "source": [
    "Welches Vertrauensintervall $\\pm\\nu$ ergibt sich jeweils für jede der Entfernungsmessungen für eine statistische Sicherheit von 68,3 %? \n",
    "\n",
    "Ergänzen sie hier die Tabelle der Messwerte, den Code zur Berechnung von Mittelwert, Abweichung und Vertrauensintervall, sowie die Tabelle mit den Ergebnissen."
   ]
  },
  {
   "cell_type": "markdown",
   "id": "1d4657d0",
   "metadata": {},
   "source": [
    "### Geringe Abweichung:"
   ]
  },
  {
   "cell_type": "markdown",
   "id": "799ea6fb",
   "metadata": {},
   "source": [
    "| Distanz | Messwerte[cm] | Messwerte[digits] |\n",
    "|------|---|---|\n",
    "|10cm|10.14, 10.09, 10.06, 10.04, 11.17, 10.83| 3220, 3226, 3230, 3233, 3089, 3132|\n",
    "|15cm|13.94, 14.09, 13.86, 13.96, 13.95, 13.92| 2037, 2716, 2746, 2733, 2734, 2738|\n",
    "|20cm|19.52, 20.07, 20.33, 20.45, 20.39, 20.14| 2025, 1955, 1922, 1907, 1915, 1947|"
   ]
  },
  {
   "cell_type": "code",
   "execution_count": 83,
   "id": "479a13ca",
   "metadata": {},
   "outputs": [
    {
     "name": "stdout",
     "output_type": "stream",
     "text": [
      "Mittelwert von 10cm: 10.388333333333334\n",
      "Absoluter Fehler: 0.38833333333333364\n",
      "\n",
      "Mittelwert von 15cm: 13.953333333333333\n",
      "Absoluter Fehler: -1.0466666666666669\n",
      "\n",
      "Mittelwert von 20cm: 20.150000000000002\n",
      "Absoluter Fehler: 0.15000000000000213\n"
     ]
    }
   ],
   "source": [
    "tenCM = [10.14, 10.09, 10.06, 10.04, 11.17, 10.83]\n",
    "fiftteenCM = [13.94, 14.09, 13.86, 13.96, 13.95, 13.92]\n",
    "twentyCM = [19.52, 20.07, 20.33, 20.45, 20.39, 20.14]\n",
    "#Berechnung von Mittelwert\n",
    "def mittelwert_berechnen(array):\n",
    "    summe = 0.0\n",
    "    mittelwert = 0.\n",
    "    for element in array:\n",
    "        summe += element \n",
    "    mittelwert = summe/len(array)\n",
    "    return mittelwert\n",
    "mittelwert_ten = mittelwert_berechnen(tenCM)\n",
    "mittelwert_fifteen = mittelwert_berechnen(fiftteenCM)\n",
    "mittelwert_twenty = mittelwert_berechnen(twentyCM)\n",
    "\n",
    "print(\"Mittelwert von 10cm: \"+ str(mittelwert_ten))\n",
    "print(\"Absoluter Fehler: \"+ str(mittelwert_ten-10))\n",
    "\n",
    "print(\"\\nMittelwert von 15cm: \"+ str(mittelwert_fifteen))\n",
    "print(\"Absoluter Fehler: \"+ str(mittelwert_fifteen-15))\n",
    "\n",
    "print(\"\\nMittelwert von 20cm: \"+ str(mittelwert_twenty))\n",
    "print(\"Absoluter Fehler: \"+ str(mittelwert_twenty-20))"
   ]
  },
  {
   "cell_type": "code",
   "execution_count": 60,
   "id": "c1c110f9",
   "metadata": {},
   "outputs": [
    {
     "name": "stdout",
     "output_type": "stream",
     "text": [
      "0.1803096616215394\n"
     ]
    }
   ],
   "source": [
    "import math\n",
    "#Standardabweichung berechnen:\n",
    "def standardabweichung(array):\n",
    "    mittelwert = mittelwert_berechnen(array)\n",
    "    summe1 = 0\n",
    "    for element in array:\n",
    "        summe1 =+ (element-mittelwert)**2\n",
    "    variance = summe1/len(array)\n",
    "    stdabweichung = math.sqrt(variance)\n",
    "    \n",
    "    return stdabweichung\n",
    "print(standardabweichung(tenCM))\n",
    "    "
   ]
  },
  {
   "cell_type": "markdown",
   "id": "39c25732",
   "metadata": {},
   "source": [
    "### Große Abweichung:"
   ]
  },
  {
   "cell_type": "markdown",
   "id": "92396cd4",
   "metadata": {},
   "source": [
    "| Distanz | Messwerte[cm] | Messwerte[digits] |\n",
    "|------|---|---|\n",
    "|50cm|45.53, 45.32, 45.64, 42.55, 42.77, 45.32|979, 981, 978, 1007, 1005, 981|\n",
    "|60cm|52.23, 55.93, 54.47, 56.86, 54.89, 58.26|916, 882, 895, 874, 891, 862|\n",
    "|80cm|449600119.87, 479572281.15, 493676827.63, 481335349.46, 447837951.56, 431969436.76|506, 489, 481, 488, 507, 516|"
   ]
  },
  {
   "cell_type": "code",
   "execution_count": 61,
   "id": "2e37c505",
   "metadata": {
    "scrolled": true
   },
   "outputs": [
    {
     "name": "stdout",
     "output_type": "stream",
     "text": [
      "Mittelwert von 10cm: 44.521666666666675\n",
      "Absoluter Fehler: -5.478333333333325\n",
      "\n",
      "Mittelwert von 15cm: 55.44\n",
      "Absoluter Fehler: -4.560000000000002\n",
      "\n",
      "Mittelwert von 20cm: 463998661.0716667\n",
      "Absoluter Fehler: 463998581.0716667\n"
     ]
    }
   ],
   "source": [
    "#Berechnung von Mittelwert\n",
    "fiftyCM = [45.53, 45.32, 45.64, 42.55, 42.77, 45.32]\n",
    "sixtyCM = [52.23, 55.93, 54.47, 56.86, 54.89, 58.26]\n",
    "eightyCM = [449600119.87, 479572281.15, 493676827.63, 481335349.46, 447837951.56, 431969436.76]\n",
    "\n",
    "mittelwert_fifty = mittelwert_berechnen(fiftyCM)\n",
    "mittelwert_sixty = mittelwert_berechnen(sixtyCM)\n",
    "mittelwert_eighty = mittelwert_berechnen(eightyCM)\n",
    "\n",
    "print(\"Mittelwert von 10cm: \"+ str(mittelwert_fifty))\n",
    "print(\"Absoluter Fehler: \"+ str(mittelwert_fifty-50))\n",
    "\n",
    "print(\"\\nMittelwert von 15cm: \"+ str(mittelwert_sixty))\n",
    "print(\"Absoluter Fehler: \"+ str(mittelwert_sixty-60))\n",
    "\n",
    "print(\"\\nMittelwert von 20cm: \"+ str(mittelwert_eighty))\n",
    "print(\"Absoluter Fehler: \"+ str(mittelwert_eighty-80))"
   ]
  },
  {
   "cell_type": "code",
   "execution_count": 99,
   "id": "c6f86647",
   "metadata": {},
   "outputs": [
    {
     "name": "stdout",
     "output_type": "stream",
     "text": [
      "77333134.25416668\n",
      "77333134.25416668\n",
      "0\n"
     ]
    },
    {
     "ename": "TypeError",
     "evalue": "'float' object is not iterable",
     "output_type": "error",
     "traceback": [
      "\u001b[1;31m---------------------------------------------------------------------------\u001b[0m",
      "\u001b[1;31mTypeError\u001b[0m                                 Traceback (most recent call last)",
      "Input \u001b[1;32mIn [99]\u001b[0m, in \u001b[0;36m<cell line: 19>\u001b[1;34m()\u001b[0m\n\u001b[0;32m     17\u001b[0m     vertrauensintervall \u001b[38;5;241m=\u001b[39m t\u001b[38;5;241m*\u001b[39mstandardabweichung\n\u001b[0;32m     18\u001b[0m     \u001b[38;5;28;01mreturn\u001b[39;00m vertrauensintervall\n\u001b[1;32m---> 19\u001b[0m \u001b[38;5;28mprint\u001b[39m(\u001b[43mstdabweichung\u001b[49m\u001b[43m(\u001b[49m\u001b[43mmittelwerte_mittel\u001b[49m\u001b[43m)\u001b[49m)\n",
      "Input \u001b[1;32mIn [99]\u001b[0m, in \u001b[0;36mstdabweichung\u001b[1;34m(array)\u001b[0m\n\u001b[0;32m      9\u001b[0m     \u001b[38;5;28mprint\u001b[39m(i)\n\u001b[0;32m     10\u001b[0m     test\u001b[38;5;241m=\u001b[39m\u001b[38;5;28mpow\u001b[39m(array[i]\u001b[38;5;241m-\u001b[39mmittelwert, \u001b[38;5;241m2\u001b[39m)\n\u001b[1;32m---> 11\u001b[0m     \u001b[38;5;28;43msum\u001b[39;49m\u001b[43m(\u001b[49m\u001b[43mtest\u001b[49m\u001b[43m)\u001b[49m\n\u001b[0;32m     12\u001b[0m     \u001b[38;5;66;03m#standardabweichung += math.sqrt(sum(pow(array[i]-mittelwert, 2))/i*(i-1))\u001b[39;00m\n\u001b[0;32m     14\u001b[0m vertrauensintervall \u001b[38;5;241m=\u001b[39m \u001b[38;5;241m0\u001b[39m\n",
      "\u001b[1;31mTypeError\u001b[0m: 'float' object is not iterable"
     ]
    }
   ],
   "source": [
    "import math\n",
    "mittelwerte_mittel = [mittelwert_ten, mittelwert_fifteen, mittelwert_twenty, mittelwert_fifty, mittelwert_sixty, mittelwert_eighty]\n",
    "def stdabweichung(array):\n",
    "    mittelwert = mittelwert_berechnen(array)\n",
    "    print(mittelwert)\n",
    "    standardabweichung = 0\n",
    "    print(mittelwert)\n",
    "    for i in range(len(array)):\n",
    "        standardabweichung += math.sqrt(sum(pow(array[i]-mittelwert, 2))/i*(i-1))\n",
    "\n",
    "    vertrauensintervall = 0\n",
    "    t = 1.1\n",
    "\n",
    "    vertrauensintervall = t*standardabweichung\n",
    "    return vertrauensintervall\n",
    "print(stdabweichung(mittelwerte_mittel))"
   ]
  },
  {
   "cell_type": "code",
   "execution_count": null,
   "id": "8a308933",
   "metadata": {},
   "outputs": [],
   "source": [
    "import statistics\n",
    "\n",
    "standardabweichung = statistics.stdev(tenCM)\n",
    "print(\"Standardabweichung:\", standardabweichung)\n"
   ]
  },
  {
   "cell_type": "markdown",
   "id": "8167a925-da56-490a-a3c4-2eec5bf9400a",
   "metadata": {},
   "source": [
    "Welche Laufzeitkomplexität hat Ihre Korrekturfunktion? (O-Notation oder Floating-Point-Operations)"
   ]
  },
  {
   "cell_type": "markdown",
   "id": "e4a3db61",
   "metadata": {},
   "source": [
    "- O(n), also linear, da die Laufzeitkomplexität von dem Arrayzugriff innerhalb der for-Schleife abhängt und diese n-mal (in unserem Falle 6-mal) durchlaufen wird."
   ]
  },
  {
   "cell_type": "markdown",
   "id": "95e4f161-01ad-4108-b465-aedd9608206c",
   "metadata": {},
   "source": [
    "Kann eine Datenrate von 4 Hz von dem gesamten System erreicht werden? Was wäre die maximal erreichbare Datenrate ihres derzeitigen Systems? Überlegen Sie dazu, welches Ihrer Teilsysteme welche maximale Bandbreite besitzt."
   ]
  },
  {
   "cell_type": "code",
   "execution_count": null,
   "id": "68315a34-b7ea-4fd5-881a-1c78677177f9",
   "metadata": {},
   "outputs": [],
   "source": []
  },
  {
   "cell_type": "markdown",
   "id": "60720b07-5347-437f-abb3-fc81bf302bdb",
   "metadata": {},
   "source": [
    "Bei ADCs tritt ein sogenanntes \"digitales Rauschen\" auf, d.h. das LSB rauscht. Welche (maximale) Auswirkung hat dieses Rauschen von einem Bit auf die in Ihrem System bestimmte Entfernung?"
   ]
  },
  {
   "cell_type": "code",
   "execution_count": null,
   "id": "27b0580d-859b-4996-bf46-596f87bc3245",
   "metadata": {},
   "outputs": [],
   "source": []
  },
  {
   "cell_type": "markdown",
   "id": "fc137edb-702d-44e5-82a5-9ba662d7aa3c",
   "metadata": {},
   "source": [
    "# Anhang\n",
    "\n",
    "![t-Verteilung]<>(t-VerteilungDIN1319-3.png)"
   ]
  },
  {
   "cell_type": "markdown",
   "id": "9de83bb3-d6f4-4691-a54d-de42c24f87cc",
   "metadata": {},
   "source": []
  }
 ],
 "metadata": {
  "kernelspec": {
   "display_name": "Python 3 (ipykernel)",
   "language": "python",
   "name": "python3"
  },
  "language_info": {
   "codemirror_mode": {
    "name": "ipython",
    "version": 3
   },
   "file_extension": ".py",
   "mimetype": "text/x-python",
   "name": "python",
   "nbconvert_exporter": "python",
   "pygments_lexer": "ipython3",
   "version": "3.9.12"
  }
 },
 "nbformat": 4,
 "nbformat_minor": 5
}
