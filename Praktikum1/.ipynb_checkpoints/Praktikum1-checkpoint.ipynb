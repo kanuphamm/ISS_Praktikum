{
 "cells": [
  {
   "cell_type": "markdown",
   "id": "eafc4fcf-0a48-41c8-a92e-e77575c87916",
   "metadata": {},
   "source": [
    "Version 1.0.1 24.03.2023\n",
    "\n",
    "# Praktikum 1 Intelligente Sensorsysteme \n",
    "Tim Tiedemann, Thomas Lehmann, Roman Kusche, Tobias de Gasperis "
   ]
  },
  {
   "cell_type": "markdown",
   "id": "dedeb6fa-90d1-461f-8f9a-bafa5f68a1f2",
   "metadata": {},
   "source": [
    "# Einfaches (intelligentes) Sensorsystem\n",
    "Im Praktikum 1 geht es um die Eigenschaften eines einfachen, gerade noch nicht intelligenten Sensorsystems, sowie eine erste Sensordatenverarbeitung mittels Mikrocontroller. Es sollen dazu die Eigenschaften des Systems ermittelt und durch geeignete Software idealisiert werden.\n",
    "\n",
    "Lesen Sie sich die Aufgaben gut durch. Sollten Sie eine Aufgabe nicht lösen können, so beschreiben Sie zumindest, wie weit Sie gekommen sind und auf welche Weise Sie vorgegangen sind.\n",
    "\n",
    "Beachten Sie auf der methodischen Seite, dass es bei einem Experiment die Schritte der Dokumentation wesentlicher Aspekte des Aufbaus, der Datenerhebung, der Datenauswertung und der Kommentierung des Ergebnisses gibt. Alle Diagramme sind entsprechend korrekt zu beschriften.\n",
    "\n",
    "Die Aufgaben sind direkt hier als Protokoll zu bearbeiten. Das abgegebene Notebook soll ausführbar sein. Daneben ist der PDF-Export des Notebook mit abzugeben."
   ]
  },
  {
   "cell_type": "markdown",
   "id": "3c0f9c93-d870-4661-8761-b7419131de89",
   "metadata": {},
   "source": [
    "Autoren des Protokolls: Berivan Elmas, Khanh Nhu Pham"
   ]
  },
  {
   "cell_type": "markdown",
   "id": "10c976ec-8a7d-439f-9464-203434d6b124",
   "metadata": {},
   "source": [
    "# Fallbeschreibung\n",
    "Ein Forschungsroboter soll zur besseren Kollisionsvermeidung den Abstand zu Objekten in der Umgebung erfassen. Für die Abstandsmessung soll ein Sensorknoten entwickelt werden, der den Abstand optisch ermittelt und die Entfernung über serielle Schnittstelle in Zentimeter \\[cm\\] ausgibt. Die Übertragung erfolgt im Klartext als Gleitkommazahl. Jeder Messwert wird durch Zeilenumbruch von dem vorherigen Messwert getrennt. Es muss eine Messrate von mindestens 4 Hz erreicht werden.\n",
    "\n",
    "Für einen ersten Prototyp wurde der Sensor Sharp GP2Y0A21 ausgesucht. Als Mikrocontrollersystem steht ein Development-Kit Nucleo144-F429ZI der Firma STMicroelectronics zur Verfügung.\n",
    "\n",
    "Entwickeln Sie einen ersten Prototypen für das Sensorsystem auf Basis des Sensors und des Mikrocontrollersystems. Beurteilen Sie dabei die Qualität des Sensorsystems.\n"
   ]
  },
  {
   "cell_type": "markdown",
   "id": "dd218564-00b5-4517-8585-e95e261dd740",
   "metadata": {},
   "source": [
    "# Vorbereitungsaufgaben\n",
    "## Mikrcontroller\n",
    "Beschaffen Sie sich Datenblätter und ggf. weiteres Informationsmaterial zu dem ITS-Mikrocontroller-Board mit dem Nucleo144-F429ZI-Board. Was für ein Mikrocontroller ist darauf verbaut? Welche Informationen in den Datenblättern sind für die Bearbeitung der Praktikumsaufgabe relevant (auflisten)?"
   ]
  },
  {
   "cell_type": "markdown",
   "id": "51d4e74e-253f-4efc-8b6f-ddd9ef7538ea",
   "metadata": {},
   "source": [
    "Auf dem Board ist der Mikrocontroller STM32 verbaut\n",
    "\n",
    "Abschnitte:\n",
    "1. Features\n",
    "2. Ordering Information\n",
    "3. Development Environment\n",
    "4. Conventions\n",
    "5. Quick Start\n",
    "6. Hardware Layout and Configuration\n",
    "7. Nucleo -144 (MB1137) information\n",
    "8. Federal Communications Commission (FCC) and ISED Canada Compliance Statements \n",
    "9. CE conformity\n",
    "10. Revision History\n",
    "\n",
    "Für die Bearbeitung der Aufgabe und die korrekte Verwendung des Boards ist wichtig zu wissen, welche Pins und Ports zu Verfügung stehen, welche Adressen im Rahmen des Memory Mappings nutzbar sind und wie viel die Versorgungsspannung und das maximale Potential beträgt."
   ]
  },
  {
   "cell_type": "markdown",
   "id": "aec35bd9-b30f-4c9a-8f5f-d08b0145c6d4",
   "metadata": {},
   "source": [
    "## Sensor\n",
    "Es soll der Sensor vom Typ Sharp GP2Y0A21 verwendet werden. Beschaffen Sie sich das entsprechende Datenblatt. Welche Quellen für Datenblätter gibt es? Welche haben Sie warum gewählt?"
   ]
  },
  {
   "cell_type": "markdown",
   "id": "4086357e-683f-408b-9245-2fc1e826e95a",
   "metadata": {},
   "source": [
    "- Der Hersteller\n",
    "- Distributoren\n",
    "\n",
    "Es wurden Herstellerseiten gewählt, da diese als die verlässlichste Quelle gewertet wurden."
   ]
  },
  {
   "cell_type": "markdown",
   "id": "a15f2d5f-97da-4040-8553-4043064c897a",
   "metadata": {},
   "source": [
    "Welche Abschnitte gibt es grob in dem Datenblatt? Welche Informationen in dem Datenblatt sind für die Bearbeitung der Praktikumsaufgabe relevant (auflisten)?"
   ]
  },
  {
   "cell_type": "markdown",
   "id": "bec1f5e4-4f43-4c69-b1a8-95319559338a",
   "metadata": {},
   "source": [
    "- Allgemeine Informationen zum Sensor\n",
    "- Aufbau des Sensors (innerlich und äußerlich)\n",
    "- Angaben zu optimalen Konditionen für den Betrieb\n",
    "- Darstellungen zum Verhalten der Distanzmessung\n",
    "- Richtlinien und Nutzungshinweise\n",
    "\n",
    "Die Angaben zu optimalen Konditionen sowie die Darstellungen zum Verhalten der Distanzmessung sind von Relevanz, um den Sensor nicht zu beschädigen und die gemessenen Werte korrekt abzulesen und zu werten."
   ]
  },
  {
   "cell_type": "markdown",
   "id": "e3568755-8972-40b1-a648-825c9496c3e7",
   "metadata": {},
   "source": [
    "Um was für eine Art von Sensor handelt es sich? Beschreiben Sie kurz das Funktionsprinzip des Sensors."
   ]
  },
  {
   "cell_type": "markdown",
   "id": "09f62a5f-84e2-4593-9074-5887f251903c",
   "metadata": {},
   "source": [
    "Der Sensor ist ein Abstandssensor, welcher mit einer Infrarot-Diode und einem optischen Positionssensor funktioniert. Der Positionssensor kann dann den Lichtpunkt, welcher von der Diode stammt und vom gemessenen Objekt reflektiert wird, messen."
   ]
  },
  {
   "cell_type": "markdown",
   "id": "27356a95",
   "metadata": {},
   "source": [
    "## Vorbereitung auf das Labor\n",
    "\n",
    "Lesen sie die Aufgaben, welche im Labor durchgeführt werden sollen durch.\n",
    "\n",
    "Erstellen Sie, wenn noch nicht vorhanden einen github-Account um Zugang zu der bereitgestellten Software für das ITS-BRD zu bekommen. Teilen Sie den Namen ihres github-Accounts über die entsprechende Buchungsliste mit (siehe Teams-Raum).\n",
    "\n",
    "Legen Sie ein neues Projekt mit hilfe der Batch-Datei newProgramADC.bat aus dem Submodul ITS_BRD_Sensorik an. Versuchen Sie dieses Projekt zu öffnen und zu kompilieren.\n",
    "\n",
    "Sammeln Sie alle Fragen und Probleme auf die Sie dabei stoßen."
   ]
  },
  {
   "cell_type": "markdown",
   "id": "abfdb9c6",
   "metadata": {},
   "source": [
    "- Sind Channels Pins?\n",
    "- Digitale Entfernungsmessung: Systemverhalten des Sensors in Kombination mit dem Mikrocontroller????\n",
    "- Korrekturfunktion: Was ist das Modell und was ist die Konfiguration einer Korrekturmethode?"
   ]
  },
  {
   "cell_type": "markdown",
   "id": "c94c0917-4017-4a74-a565-1e97a9fe26d1",
   "metadata": {},
   "source": [
    "# Im Labor"
   ]
  },
  {
   "cell_type": "markdown",
   "id": "951d04ac-a477-40c5-b251-14e9da4ced6e",
   "metadata": {},
   "source": [
    "## Analoge Entfernungsmessung"
   ]
  },
  {
   "cell_type": "markdown",
   "id": "132f6b3a-7da9-48d0-90c8-4f187cc03bbc",
   "metadata": {},
   "source": [
    "Nehmen Sie den Sensor Sharp GP2Y0A21 in Absprache mit dem Tutor mit Labornetzteil und Oszilloskop in Betrieb. Skizzieren Sie vorab einen Schaltplan, sprechen diesen mit dem Tutor ab und bauen Sie dann die Verdrahtung auf. \n",
    "\n",
    "Fügen Sie die Skizze hier ein."
   ]
  },
  {
   "cell_type": "markdown",
   "id": "0058302f-5d37-4c0c-9f8b-c251ecc6769d",
   "metadata": {},
   "source": [
    "Untersuchen Sie das Verhalten des Sensors. Was beobachten Sie?"
   ]
  },
  {
   "cell_type": "markdown",
   "id": "ae61f483-1937-4405-bd7c-b1d51faff935",
   "metadata": {},
   "source": []
  },
  {
   "cell_type": "markdown",
   "id": "2c971a0b-f353-41a0-87fa-0d9de58288f1",
   "metadata": {},
   "source": [
    "Wählen Sie sechs Entfernungen aus und messen Sie jeweils das Ausgangssignal des Sensors.\n",
    "Verwenden Sie das Anhalten des Scans, um die Breite des Rauschens abzuschätzen. Alternativ kann die Min-/Max-Funktion des Oszilloskops helfen, um Minimal- und Maximalwert zu messen – aber Achtung: Ausreißer sollen hierbei nicht beachtet werden! Für Ausreißer in Messsignalen werden wir noch andere Methoden betrachten.\n",
    "\n",
    "Fügen Sie hier eine Tabelle mit den Messwerten (Distanz, Messwert, Rauschbreite) ein. Welche Einheit haben die Werte? "
   ]
  },
  {
   "cell_type": "markdown",
   "id": "08edb398",
   "metadata": {},
   "source": [
    "| Distanz | Messwert | Rauschbreite |\n",
    "|---|---|---|\n",
    "|5cm|3V|200mV|\n",
    "|10cm|2.56V|100mV|\n",
    "|25cm|900mV|100mV|\n",
    "|40cm|600mV|100mV|\n",
    "|55cm|500mV|120mV|\n",
    "|70cm|400mV|120mV|\n"
   ]
  },
  {
   "cell_type": "markdown",
   "id": "a6000bb0-cf89-4832-aa70-1ce5f69688c8",
   "metadata": {},
   "source": [
    "Stellen Sie Ihre Messwerte graphisch in einem linearen Koordinatensystem dar. Versuchen Sie, eine Funktion $y = y_0 + m · x$ entlang Ihren Messdaten zu legen. Wie haben Sie die Koeffizienten der Funktion ermittelt? Wie gut passt das lineare Modell zu Ihren Daten? Haben Sie eine Erklärung dafür?"
   ]
  },
  {
   "cell_type": "code",
   "execution_count": 8,
   "id": "4713f6b2",
   "metadata": {},
   "outputs": [
    {
     "name": "stdout",
     "output_type": "stream",
     "text": [
      "[(5, 3000), (10, 2560), (25, 800), (40, 600), (55, 500), (70, 400)]\n",
      "Die Formel für die Regressionsgerade lautet: \n",
      "f(x) = -39.27133757961783x + 2651.7707006369424\n"
     ]
    },
    {
     "data": {
      "image/png": "[encoded data removed]",
      "text/plain": [
       "<Figure size 640x480 with 1 Axes>"
      ]
     },
     "metadata": {},
     "output_type": "display_data"
    }
   ],
   "source": [
    "import matplotlib.pyplot as plt\n",
    "\n",
    "figure, achse = plt.subplots()\n",
    "\n",
    "messwerte = [3000, 2560, 800, 600, 500, 400]\n",
    "distanzen = [5, 10, 25, 40, 55, 70]\n",
    "daten = list(zip(distanzen, messwerte))\n",
    "print(daten)\n",
    "\n",
    "summeX = 0\n",
    "summeY = 0\n",
    "for paar in daten:\n",
    "    summeX += paar[0]\n",
    "    summeY += paar[1]\n",
    "\n",
    "durchschnittX = summeX / len(daten)\n",
    "durchschnittY = summeY / len(daten)\n",
    "\n",
    "#zähler\n",
    "summe1 = 0\n",
    "for paar in daten:\n",
    "    summe1 += (paar[0] - durchschnittX) * (paar[1] - durchschnittY)\n",
    "\n",
    "#nenner\n",
    "summe2 = 0\n",
    "for paar in daten:\n",
    "    summe2 += pow((paar[0] - durchschnittX), 2)\n",
    "\n",
    "steigung = summe1 / summe2\n",
    "\n",
    "yAchsenAbschnitt = durchschnittY - steigung * durchschnittX\n",
    "\n",
    "print(\"Die Formel für die Regressionsgerade lautet: \")\n",
    "if yAchsenAbschnitt >= 0:\n",
    "    print(f\"f(x) = {steigung}x + {yAchsenAbschnitt}\")\n",
    "else:\n",
    "    print(f\"f(x) = {steigung}x - {yAchsenAbschnitt * -1}\")\n",
    "    \n",
    "# create the x and y lists for the plot\n",
    "x = [paar[0] for paar in daten]\n",
    "y = [paar[1] for paar in daten]\n",
    "\n",
    "# plot the data points\n",
    "plt.plot(x, y, 'bo')\n",
    "\n",
    "# plot the regression line\n",
    "plt.plot(x, [steigung * xi + yAchsenAbschnitt for xi in x], color='red')\n",
    "\n",
    "#Label axes\n",
    "achse.set_xlabel('Distanz[cm]')\n",
    "achse.set_ylabel('gemessene Spannung[mV]')\n",
    "# show the plot\n",
    "plt.show()\n"
   ]
  },
  {
   "cell_type": "markdown",
   "id": "cec99541-0af6-4ebb-bcbe-045dfad7ec2d",
   "metadata": {},
   "source": [
    "Erkennen Sie irgendwelche Probleme bei diesem Versuchsaufbau oder gab es Fehlannahmen über das erwartete Verhalten? Beschreiben Sie kurz."
   ]
  },
  {
   "cell_type": "markdown",
   "id": "16cd2161-c630-444c-af9d-b9b40c94da99",
   "metadata": {},
   "source": [
    "- Die Messwerte, welche sich im Versuch ergaben entsprachen nicht der erwarteten Genauigkeit."
   ]
  },
  {
   "cell_type": "markdown",
   "id": "e93f605a-6249-4a3e-8893-ac204d55297d",
   "metadata": {},
   "source": [
    "Was fällt Ihnen insgesamt an dem Sensorverhalten auf? Gibt es negative Eigenschaften? Erkennen Sie zwei verschiedene Arten von Störungen, die zu falschen Messwerten führen?\n"
   ]
  },
  {
   "cell_type": "markdown",
   "id": "318ccf12-71b7-4f78-bca2-ca60440ef4d5",
   "metadata": {},
   "source": [
    "- Material des gemessenen Objekts: verschiedene Dinge reflektieren unterschiedlich stark.\n",
    "- Positionierung des Objekts: bei schiefer Ausrichtung des Sensors reflektiert das Licht nicht in einem messbaren/rekonstruierbaren Winkel. Die Messwerte können sich also in der selben Distanz durch diese Winkel unterscheiden.\n",
    "- Externe Lichtquellen: Externes Licht wird ebenfalls von dem optischen Positionssensor aufgefangen und verzerrt die Messwerte."
   ]
  },
  {
   "cell_type": "markdown",
   "id": "26182231-07d2-4eb3-8211-e8a8b6f2a0ec",
   "metadata": {},
   "source": [
    "## Digitale Entfernungsmessung"
   ]
  },
  {
   "cell_type": "markdown",
   "id": "8bf5fb32-97c3-4d1b-99b1-bd557bfc318f",
   "metadata": {},
   "source": [
    "### Analyse des Vorarbeiten in der Software\n",
    "Im Rahmen der Vorauswahl von Sensor und Mikrocontroller-Board wurde schon ein erstes Beispielprojekt erstellt. Das Keil-Projekt erhalten Sie über github\n",
    "\n",
    "Eventuell muss in der Keil-Umgebung vor dem / beim ersten Start die Unterstützung des verwendeten Mikrocontrollers nachinstalliert werden."
   ]
  },
  {
   "cell_type": "markdown",
   "id": "e93a4a4f-9585-41c6-b539-e12acbe8c7b5",
   "metadata": {},
   "source": [
    "Analysieren Sie sich das zur Verfügung gestellte Projekt. Was wurde bereits in den Vorarbeiten erledigt? Wo/wie werden die Mikrocontroller-internen Komponenten angesteuert? Wo die initiale Konfiguration der Mikrocontroller-internen Komponenten? Wo findet ein Zugriff auf die ADC-Ergebnisse statt? Insbesondere, wo findet die Board-spezifische Konfiguration statt: An welchem Pin des Controllers wird der Analogwert eingelesen?"
   ]
  },
  {
   "cell_type": "markdown",
   "id": "f2356451-e0db-4980-b9ce-802df5f11ce6",
   "metadata": {},
   "source": [
    "Was wurde bereits in den Vorarbeiten erledigt?\n",
    "- ADC Funktionen und HAL sind bereits zur Verfügung gestellt\n",
    "- Funktionen für DMA, Ethernet und GPIO wurden bereits implementiert\n",
    "\n",
    "Wo/wie werden die Mikrocontroller-internen Komponenten angesteuert?\n",
    "- Drivers/STM32F4xx_HAL_Driver\n",
    "\n",
    "Wo findet ein Zugriff auf die ADC-Ergebnisse statt?\n",
    "- main.c & adc.c\n",
    "\n"
   ]
  },
  {
   "cell_type": "markdown",
   "id": "4cbed4fe-9abe-47c7-8185-0b83070e5390",
   "metadata": {},
   "source": [
    "Kompilieren Sie das Programm und laden es auf den Mikrocontroller. Prüfen Sie die Funktionsweise des Programms. \n",
    "\n",
    "Auf dem PC/Notebook benötigen Sie ein Programm, um die serielle Schnittstelle auszulesen, z.B. TeraTerm oder HyperTerm, das passend konfiguriert sein muss.\n",
    "\n",
    "Falls Sie mit der der Simulation in Keil arbeiten, müssen Sie (im Simulations-/Debug-Modus) unter “View”–“Serial Windows” den “UART#2” auswählen. Dieses Fenster ist im ursprünglichen Projekt bereits geöffnet. Fragen Sie ggf. Ihren Tutor dazu."
   ]
  },
  {
   "cell_type": "markdown",
   "id": "ecbe5b1d-5283-4099-a804-088e59c80183",
   "metadata": {},
   "source": [
    "### Analyse Systemverhalten "
   ]
  },
  {
   "cell_type": "markdown",
   "id": "0dea5b7d-1202-4e1d-9c55-8aac727c572d",
   "metadata": {},
   "source": [
    "Vor der Entwicklung des Prototypen muss nun das Systemverhalten des Sensors in Kombination mit dem Mikrocontroller ebenfalls analysiert werden."
   ]
  },
  {
   "cell_type": "markdown",
   "id": "c6179e5c-30af-4c53-99b0-e92eac144ab0",
   "metadata": {},
   "source": [
    "Skizzieren Sie Ihren Aufbau (Kästchengrafik) ihres Systems, ggf. auf Papier, und fügen Sie das Bild hier ein."
   ]
  },
  {
   "cell_type": "code",
   "execution_count": null,
   "id": "d13ee623-bd71-48e6-a6d1-4463b087b8cf",
   "metadata": {},
   "outputs": [],
   "source": [
    "\n",
    "\n"
   ]
  },
  {
   "cell_type": "markdown",
   "id": "f8d40d72-e2dc-42cf-9e93-b685061fda47",
   "metadata": {},
   "source": [
    "Schliessen Sie den Sensor an Ihr ITS-Board an. Lesen Sie Sensorwerte über den ADC im Mikrocontroller ein und übertragen die Werte über die serielle Schnittstelle an den Host. Es sollen auf dem Host die Rohwerte des ADC (digit) angezeigt werden. \n",
    "\n",
    "Nehmen Sie für die sechs Entfernungen (s.o.) jeweils sechs aufeinander folgende vom ADC ausgelesene Werte auf. Fügen Sie hier wieder die Tabelle (Distanz, sechse Messwerte, Mittelwert) mit Ihren Messwerten ein. Berechnen Sie die jeweiligen Mittelwerte Ihrer Messungen."
   ]
  },
  {
   "cell_type": "markdown",
   "id": "4162c15f",
   "metadata": {},
   "source": [
    "| Distanz | sechste Messwerte | Mittelwert |\n",
    "|------|---|---|\n",
    "|5cm|3819, 3825, 3817, 3821, 3837, 3818|3822|\n",
    "|10cm|3108, 3113, 3261, 3274, 3415, 3260|3238|\n",
    "|25cm|1324, 1316, 1328, 1317, 1309, 1371|1327|\n",
    "|40cm|1049, 1014, 1032, 1052, 1020, 1022|1031|\n",
    "|55cm|895, 867, 879, 900, 882, 912|889|\n",
    "|70cm|774, 753, 762, 756, 771, 751|761|"
   ]
  },
  {
   "cell_type": "markdown",
   "id": "a87cdce5-9a3a-42e4-a699-f6187050e7c0",
   "metadata": {},
   "source": [
    "Bewerten Sie wieder die Linearität des Systems."
   ]
  },
  {
   "cell_type": "code",
   "execution_count": 12,
   "id": "cf815d29-bbb4-43f8-8f75-2d48136d64b7",
   "metadata": {},
   "outputs": [
    {
     "data": {
      "image/png": "[encoded data removed]",
      "text/plain": [
       "<Figure size 640x480 with 1 Axes>"
      ]
     },
     "metadata": {},
     "output_type": "display_data"
    }
   ],
   "source": [
    "figure, achse = plt.subplots()\n",
    "mittelwerte = [3822, 3238, 1327, 1031, 889, 761]\n",
    "\n",
    "achse.set_xlabel('Distanz [cm]')\n",
    "achse.set_ylabel('Mittelwert [digit]')\n",
    "\n",
    "plt.plot(distanzen, mittelwerte)\n",
    "\n",
    "# show the plot\n",
    "plt.show()"
   ]
  },
  {
   "cell_type": "markdown",
   "id": "020551fd-6f03-47a1-8851-cf4a3b2f3c4d",
   "metadata": {},
   "source": [
    "Schlagen Sie ein oder mehrere Methoden vor um der Nichtlinearität zu begegnen! Und wieso ist eine Korrektur überhaupt notwendig?"
   ]
  },
  {
   "cell_type": "markdown",
   "id": "4f500934",
   "metadata": {},
   "source": [
    "- Lineare Approximation\n",
    "- Korrektur wegen Rauschen in den Werten (externe Einflüsse auf Messung)\n",
    "\n",
    "- Eine Korrektur ist notwendig, da das System ansonsten unvorhersehbar wäre und die Signale verfälschen könnte"
   ]
  },
  {
   "cell_type": "markdown",
   "id": "54659535-9a93-49f0-8d10-555469ea5994",
   "metadata": {},
   "source": [
    "## Systementwicklung"
   ]
  },
  {
   "cell_type": "markdown",
   "id": "5627bf55-b8f4-41e2-8c7e-96909f7ea092",
   "metadata": {},
   "source": [
    "### Korrekturfunktion\n",
    "Implementieren Sie eine Korrekturmethode, mit der die ADC-Werte in Zentimeter umgerechnet werden, z.B. durch eine eigene Funktion:\n",
    "`double korrektur(uint16_t dig) { ... }`\n",
    "\n",
    "Wählen Sie die Modell und Konfiguration ihrer Korrekturmethode basierend auf Ihren Messwerten und geben Sie die Distanz jetzt in cm (mit mindestens einer Nachkommastelle) über die serielle Schnittstelle aus. Wieviele Nachkommastellen halten Sie für sinnvoll (begründen Sie ggf. über die diskrete Auflösung des Systems)?\n",
    "\n",
    "Fügen Sie hier auch den C-Code der Funktion ein."
   ]
  },
  {
   "cell_type": "code",
   "execution_count": null,
   "id": "d8c200c0-b1ed-4ffe-8da7-b2da442940a1",
   "metadata": {},
   "outputs": [],
   "source": []
  },
  {
   "cell_type": "markdown",
   "id": "4ad92f9e-a4a6-4ce1-9719-58fd7a3100e3",
   "metadata": {
    "tags": []
   },
   "source": [
    "### Qualität und Performanz\n",
    "Untersuchen Sie die Qualität Ihres Sensorsystems. Führen Sie wieder Vergleichsmessungen zwischen der Referenzentfernung (Zollstock) und Ihrem Sensorsystem durch.\n",
    "\n",
    "Führen Sie drei Messungen an Entfernungen durch, wo Sie bei Ihrer Korrekturmethode eine geringe Abweichung erwarten. Führen Sie drei weitere Messungen bei Entfernungen durch, wo Sie eine hohe Abweichung auf Grund Ihrer Korrekturmethode erwarten. Begründen Sie kurz die Wahl der Punkte.\n",
    "\n",
    "Nehmen Sie pro Entfernung sechs Messwerte auf. Welcher absolute Fehler zwischen Referenz und Mittelwert der Messwerte ergibt sich bei den Entferungen jeweils?"
   ]
  },
  {
   "cell_type": "markdown",
   "id": "b9991834-bc94-4de1-affe-c420e51905c0",
   "metadata": {},
   "source": [
    "Welches Vertrauensintervall $\\pm\\nu$ ergibt sich jeweils für jede der Entfernungsmessungen für eine statistische Sicherheit von 68,3 %? \n",
    "\n",
    "Ergänzen sie hier die Tabelle der Messwerte, den Code zur Berechnung von Mittelwert, Abweichung und Vertrauensintervall, sowie die Tabelle mit den Ergebnissen."
   ]
  },
  {
   "cell_type": "code",
   "execution_count": null,
   "id": "85174831-1445-4a0c-b9f1-4b2d0ac38256",
   "metadata": {},
   "outputs": [],
   "source": []
  },
  {
   "cell_type": "markdown",
   "id": "8167a925-da56-490a-a3c4-2eec5bf9400a",
   "metadata": {},
   "source": [
    "Welche Laufzeitkomplexität hat Ihre Korrekturfunktion? (O-Notation oder Floating-Point-Operations)"
   ]
  },
  {
   "cell_type": "code",
   "execution_count": null,
   "id": "d3a9cf6e-ce07-45b3-bb93-791c5ab20d17",
   "metadata": {},
   "outputs": [],
   "source": []
  },
  {
   "cell_type": "markdown",
   "id": "95e4f161-01ad-4108-b465-aedd9608206c",
   "metadata": {},
   "source": [
    "Kann eine Datenrate von 4 Hz von dem gesamten System erreicht werden? Was wäre die maximal erreichbare Datenrate ihres derzeitigen Systems? Überlegen Sie dazu, welches Ihrer Teilsysteme welche maximale Bandbreite besitzt."
   ]
  },
  {
   "cell_type": "code",
   "execution_count": null,
   "id": "68315a34-b7ea-4fd5-881a-1c78677177f9",
   "metadata": {},
   "outputs": [],
   "source": []
  },
  {
   "cell_type": "markdown",
   "id": "60720b07-5347-437f-abb3-fc81bf302bdb",
   "metadata": {},
   "source": [
    "Bei ADCs tritt ein sogenanntes \"digitales Rauschen\" auf, d.h. das LSB rauscht. Welche (maximale) Auswirkung hat dieses Rauschen von einem Bit auf die in Ihrem System bestimmte Entfernung?"
   ]
  },
  {
   "cell_type": "code",
   "execution_count": null,
   "id": "27b0580d-859b-4996-bf46-596f87bc3245",
   "metadata": {},
   "outputs": [],
   "source": []
  },
  {
   "cell_type": "markdown",
   "id": "fc137edb-702d-44e5-82a5-9ba662d7aa3c",
   "metadata": {},
   "source": [
    "# Anhang\n",
    "\n",
    "![t-Verteilung]<>(t-VerteilungDIN1319-3.png)"
   ]
  },
  {
   "cell_type": "markdown",
   "id": "9de83bb3-d6f4-4691-a54d-de42c24f87cc",
   "metadata": {},
   "source": []
  }
 ],
 "metadata": {
  "kernelspec": {
   "display_name": "Python 3 (ipykernel)",
   "language": "python",
   "name": "python3"
  },
  "language_info": {
   "codemirror_mode": {
    "name": "ipython",
    "version": 3
   },
   "file_extension": ".py",
   "mimetype": "text/x-python",
   "name": "python",
   "nbconvert_exporter": "python",
   "pygments_lexer": "ipython3",
   "version": "3.10.9"
  }
 },
 "nbformat": 4,
 "nbformat_minor": 5
}
