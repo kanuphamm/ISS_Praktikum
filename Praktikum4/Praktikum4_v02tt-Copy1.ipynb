{
 "cells": [
  {
   "cell_type": "markdown",
   "id": "eafc4fcf-0a48-41c8-a92e-e77575c87916",
   "metadata": {},
   "source": [
    "# Praktikum Intelligente Sensortechnik 4\n",
    "Tim Tiedemann, Thomas Lehmann, Tobias De Gasparis\n",
    "\n",
    "Version 11.05.2023"
   ]
  },
  {
   "cell_type": "markdown",
   "id": "7cf12a59-7e4b-4e09-89f9-447fff74170b",
   "metadata": {},
   "source": [
    "# Einfache intelligente Sensoren und Datenvorverarbeitung\n",
    "Im Praktikum 4 geht es um die Verarbeitung hochdimensionaler Daten bzw. die Klassifikation der Daten.\n",
    "\n",
    "Lesen Sie sich die Aufgaben gut durch. Sollten Sie eine Aufgabe nicht lösen können, so beschreiben Sie zumindest, wie weit Sie gekommen sind und auf welche Weise Sie vorgegangen sind.\n",
    "\n",
    "Beachten Sie auf der methodischen Seite, dass die Schritte der Datenerhebung, der Datenauswertung und der Kommentierung des Ergebnisses ausgeführt werden. Alle Diagramme sind korrekt zu beschriften.\n",
    "\n",
    "Die Aufgaben sind direkt hier als Protokoll zu bearbeiten. Das abgegebene Notebook soll ausführbar sein. Daneben ist der PDF-Export des Notebook mit abzugeben."
   ]
  },
  {
   "cell_type": "markdown",
   "id": "0537730a-2b4a-4a61-89f5-8ff590f6dc7a",
   "metadata": {},
   "source": [
    "Autoren des Protokolls: Khanh Nhu Pham, Berivan Elmas"
   ]
  },
  {
   "cell_type": "markdown",
   "id": "b4afe8f3-c64f-4c97-b006-4c88cab5638f",
   "metadata": {},
   "source": [
    "# Hintergrund\n",
    "Intelligente Sensoren sollen nicht nur Daten erfassen, sondern direkt eine Klassifikation mit Informationen auf abstrakterer Ebene aus der Umwelt liefern. Beispielsweise soll eine Geste oder Gegenstände erkannt werden und diese Information über die Schnittstelle zu weiteren Systemkomponenten bereitgestellt werden. In diesem Praktikum wird die Leistungsfähigkeit der Klassifikation einfacher Algorithmen des nicht-überwachten Machine Learnings für diese Aufgabe untersucht."
   ]
  },
  {
   "cell_type": "markdown",
   "id": "de19e183-f52a-42cb-adce-ee835c36cead",
   "metadata": {},
   "source": [
    "# Vorbereitungsaufgaben\n",
    "## Sensoren mit hochdimensionaler Ausgabe von Daten\n",
    "Besorgen Sie sich Informationen zu den folgenden Sensoren: \n",
    "\n",
    "- Hokuyo URG-04LX-UG01\n",
    "- Hokuyo UTM-30LX-EW\n",
    "- Velodyne VLP-16\n",
    "\n",
    "Um was für einen Sensor handelt es sich jeweils und welches Messprinzip wird verwendet? Was wird gemessen? Was sind hier der Messbereich, die Auflösung und die Sample-/Messrate?"
   ]
  },
  {
   "cell_type": "markdown",
   "id": "e3568755-8972-40b1-a648-825c9496c3e7",
   "metadata": {},
   "source": [
    "- Hokuyo URG-04LX-UG01\n",
    "    - Umgebungsscanner über Infrarot, Phasenverschiebung\n",
    "    - Messbereich: 20mm-4000mm\n",
    "    - Die Messrate beträgt 10Hz\n",
    "    - Die Auflösung beträgt 1mm\n",
    "    \n",
    "- Hokuyo UTM-30LX-EW\n",
    "    - Umgebungsscanner, Triangulationsprinzip\n",
    "    - Messbereich: 0.1m-30m\n",
    "    - Die Messrate beträgt 40Hz\n",
    "    - Die Auflösung beträgt 1mm\n",
    "    \n",
    "- Velodyne VLP-16\n",
    "    - Distanzmessung über Infrarot, TOF\n",
    "    - Messbereich:100m\n",
    "    - Die Samplerate beträgt 18.08 kHz pro IR-Detektor\n",
    "    - Die Winkelauflösung beträgt horizontal 0.1°-0.4° und vertikal 2.0°"
   ]
  },
  {
   "cell_type": "markdown",
   "id": "a3f8f7ad-66f6-457d-94e2-0dc5c5c00cad",
   "metadata": {},
   "source": [
    "Über welche Schnittstelle(n) können die Messdaten ausgegeben werden? Wie werden jeweils Betriebsspannung und Datenleitungen angeschlossen?"
   ]
  },
  {
   "cell_type": "markdown",
   "id": "e65eea1c-84a7-495b-967a-c980d0b04ffe",
   "metadata": {},
   "source": [
    "- Hokuyo URG-04LX-UG01 USB\n",
    "- Hokuyo UTM-30LX-EW Datenblatt Abschnitt 6.1 S.4\n",
    "- Velodyne VLP-16 User Manual Abschnitt 2.1 S.18"
   ]
  },
  {
   "cell_type": "markdown",
   "id": "e3a13536-be2f-45f4-a51e-adcec495b336",
   "metadata": {},
   "source": [
    "# Im Labor"
   ]
  },
  {
   "cell_type": "markdown",
   "id": "bb6876b9-d62b-4f2e-8963-e48e0cedc2e2",
   "metadata": {
    "tags": []
   },
   "source": [
    "## Objektidentifikation in Daten von Laserscannern\n",
    "Mit LiDARs vom Typ Hokuyo URG-04LX-UG01 sollen Sie die Umgebung der Sensoren erfassen und mittels Clustering-Algorithmus auswerten. Sie sollen untersuchen, ob die Objekte der Umgebung durch den Cluster-Algorithmus gefunden werden."
   ]
  },
  {
   "cell_type": "markdown",
   "id": "f83dfd96-912e-454d-9e64-e51c96e67185",
   "metadata": {},
   "source": [
    "### Datenerfassung"
   ]
  },
  {
   "cell_type": "markdown",
   "id": "ad956e31-648e-4968-ad7f-47e22952feb4",
   "metadata": {
    "tags": []
   },
   "source": [
    "Verwenden Sie in Absprache mit dem Laborbetreuer einen Sensor vom Typ Hokuyo URG-04LX-UG01 für die Datenerfassung. Wie werden Daten erfasst und wie können sie auf diese zugreifen?"
   ]
  },
  {
   "cell_type": "markdown",
   "id": "4305ad07",
   "metadata": {},
   "source": [
    "- Über einen eingerichteten Remote-Zugriff kann nach der Anleitung (s.Teams) ein Zugriff auf die Daten, welche nach Ausführen des Skripts gemessen werden, zugegriffen werden. Die Daten werden in der Konsole ausgegeben, über die das Skript ausgeführt wurde."
   ]
  },
  {
   "cell_type": "markdown",
   "id": "1d39109e-5181-464a-8596-17f542e18e18",
   "metadata": {},
   "source": []
  },
  {
   "cell_type": "markdown",
   "id": "1ed41f47-d7ce-481e-8d49-4242769d2456",
   "metadata": {},
   "source": [
    "Sammeln Sie Daten von einem Scan und versuchen Sie die Daten in einer zweidimensionalen Karte darzustellen. Können Sie Objekte in der Umgebung identifizieren?"
   ]
  },
  {
   "cell_type": "code",
   "execution_count": 3,
   "id": "bb034f08-6329-4a68-9ff4-5205befa7d49",
   "metadata": {},
   "outputs": [
    {
     "ename": "ValueError",
     "evalue": "Some errors were detected !\n    Line #2 (got 1 columns instead of 683)\n    Line #3 (got 1 columns instead of 683)\n    Line #4 (got 1 columns instead of 683)\n    Line #5 (got 1 columns instead of 683)\n    Line #6 (got 1 columns instead of 683)\n    Line #7 (got 1 columns instead of 683)\n    Line #8 (got 1 columns instead of 683)\n    Line #9 (got 1 columns instead of 683)\n    Line #12 (got 1 columns instead of 683)\n    Line #13 (got 1 columns instead of 683)\n    Line #14 (got 1 columns instead of 683)\n    Line #15 (got 1 columns instead of 683)\n    Line #16 (got 1 columns instead of 683)\n    Line #17 (got 1 columns instead of 683)\n    Line #18 (got 1 columns instead of 683)\n    Line #19 (got 1 columns instead of 683)\n    Line #20 (got 1 columns instead of 683)\n    Line #21 (got 1 columns instead of 683)\n    Line #22 (got 1 columns instead of 683)\n    Line #25 (got 1 columns instead of 683)\n    Line #26 (got 1 columns instead of 683)\n    Line #27 (got 1 columns instead of 683)\n    Line #28 (got 1 columns instead of 683)\n    Line #29 (got 1 columns instead of 683)\n    Line #30 (got 1 columns instead of 683)\n    Line #31 (got 1 columns instead of 683)\n    Line #32 (got 1 columns instead of 683)\n    Line #33 (got 1 columns instead of 683)\n    Line #34 (got 1 columns instead of 683)\n    Line #37 (got 1 columns instead of 683)\n    Line #38 (got 1 columns instead of 683)\n    Line #39 (got 1 columns instead of 683)\n    Line #42 (got 1 columns instead of 683)\n    Line #43 (got 1 columns instead of 683)\n    Line #44 (got 1 columns instead of 683)\n    Line #47 (got 1 columns instead of 683)\n    Line #48 (got 1 columns instead of 683)\n    Line #49 (got 1 columns instead of 683)\n    Line #52 (got 1 columns instead of 683)\n    Line #53 (got 1 columns instead of 683)\n    Line #54 (got 1 columns instead of 683)\n    Line #57 (got 1 columns instead of 683)\n    Line #58 (got 1 columns instead of 683)\n    Line #59 (got 1 columns instead of 683)\n    Line #62 (got 1 columns instead of 683)\n    Line #63 (got 1 columns instead of 683)\n    Line #64 (got 1 columns instead of 683)",
     "output_type": "error",
     "traceback": [
      "\u001b[1;31m---------------------------------------------------------------------------\u001b[0m",
      "\u001b[1;31mValueError\u001b[0m                                Traceback (most recent call last)",
      "Input \u001b[1;32mIn [3]\u001b[0m, in \u001b[0;36m<cell line: 5>\u001b[1;34m()\u001b[0m\n\u001b[0;32m      2\u001b[0m \u001b[38;5;28;01mimport\u001b[39;00m \u001b[38;5;21;01mmatplotlib\u001b[39;00m\u001b[38;5;21;01m.\u001b[39;00m\u001b[38;5;21;01mpyplot\u001b[39;00m \u001b[38;5;28;01mas\u001b[39;00m \u001b[38;5;21;01mplt\u001b[39;00m\n\u001b[0;32m      4\u001b[0m \u001b[38;5;66;03m# Einlesen der Daten aus der Textdatei\u001b[39;00m\n\u001b[1;32m----> 5\u001b[0m data \u001b[38;5;241m=\u001b[39m \u001b[43mnp\u001b[49m\u001b[38;5;241;43m.\u001b[39;49m\u001b[43mgenfromtxt\u001b[49m\u001b[43m(\u001b[49m\u001b[38;5;124;43m\"\u001b[39;49m\u001b[38;5;124;43mtest_data.txt\u001b[39;49m\u001b[38;5;124;43m\"\u001b[39;49m\u001b[43m,\u001b[49m\u001b[43m \u001b[49m\u001b[43mdelimiter\u001b[49m\u001b[38;5;241;43m=\u001b[39;49m\u001b[38;5;124;43m\"\u001b[39;49m\u001b[38;5;124;43m: \u001b[39;49m\u001b[38;5;124;43m\"\u001b[39;49m\u001b[43m)\u001b[49m\n\u001b[0;32m      7\u001b[0m \u001b[38;5;66;03m# Extrahieren der x- und y-Werte aus den Daten\u001b[39;00m\n\u001b[0;32m      8\u001b[0m x_values \u001b[38;5;241m=\u001b[39m data[:, \u001b[38;5;241m0\u001b[39m]\n",
      "File \u001b[1;32m~\\anaconda3\\lib\\site-packages\\numpy\\lib\\npyio.py:2124\u001b[0m, in \u001b[0;36mgenfromtxt\u001b[1;34m(fname, dtype, comments, delimiter, skip_header, skip_footer, converters, missing_values, filling_values, usecols, names, excludelist, deletechars, replace_space, autostrip, case_sensitive, defaultfmt, unpack, usemask, loose, invalid_raise, max_rows, encoding, like)\u001b[0m\n\u001b[0;32m   2122\u001b[0m \u001b[38;5;66;03m# Raise an exception ?\u001b[39;00m\n\u001b[0;32m   2123\u001b[0m \u001b[38;5;28;01mif\u001b[39;00m invalid_raise:\n\u001b[1;32m-> 2124\u001b[0m     \u001b[38;5;28;01mraise\u001b[39;00m \u001b[38;5;167;01mValueError\u001b[39;00m(errmsg)\n\u001b[0;32m   2125\u001b[0m \u001b[38;5;66;03m# Issue a warning ?\u001b[39;00m\n\u001b[0;32m   2126\u001b[0m \u001b[38;5;28;01melse\u001b[39;00m:\n\u001b[0;32m   2127\u001b[0m     warnings\u001b[38;5;241m.\u001b[39mwarn(errmsg, ConversionWarning, stacklevel\u001b[38;5;241m=\u001b[39m\u001b[38;5;241m2\u001b[39m)\n",
      "\u001b[1;31mValueError\u001b[0m: Some errors were detected !\n    Line #2 (got 1 columns instead of 683)\n    Line #3 (got 1 columns instead of 683)\n    Line #4 (got 1 columns instead of 683)\n    Line #5 (got 1 columns instead of 683)\n    Line #6 (got 1 columns instead of 683)\n    Line #7 (got 1 columns instead of 683)\n    Line #8 (got 1 columns instead of 683)\n    Line #9 (got 1 columns instead of 683)\n    Line #12 (got 1 columns instead of 683)\n    Line #13 (got 1 columns instead of 683)\n    Line #14 (got 1 columns instead of 683)\n    Line #15 (got 1 columns instead of 683)\n    Line #16 (got 1 columns instead of 683)\n    Line #17 (got 1 columns instead of 683)\n    Line #18 (got 1 columns instead of 683)\n    Line #19 (got 1 columns instead of 683)\n    Line #20 (got 1 columns instead of 683)\n    Line #21 (got 1 columns instead of 683)\n    Line #22 (got 1 columns instead of 683)\n    Line #25 (got 1 columns instead of 683)\n    Line #26 (got 1 columns instead of 683)\n    Line #27 (got 1 columns instead of 683)\n    Line #28 (got 1 columns instead of 683)\n    Line #29 (got 1 columns instead of 683)\n    Line #30 (got 1 columns instead of 683)\n    Line #31 (got 1 columns instead of 683)\n    Line #32 (got 1 columns instead of 683)\n    Line #33 (got 1 columns instead of 683)\n    Line #34 (got 1 columns instead of 683)\n    Line #37 (got 1 columns instead of 683)\n    Line #38 (got 1 columns instead of 683)\n    Line #39 (got 1 columns instead of 683)\n    Line #42 (got 1 columns instead of 683)\n    Line #43 (got 1 columns instead of 683)\n    Line #44 (got 1 columns instead of 683)\n    Line #47 (got 1 columns instead of 683)\n    Line #48 (got 1 columns instead of 683)\n    Line #49 (got 1 columns instead of 683)\n    Line #52 (got 1 columns instead of 683)\n    Line #53 (got 1 columns instead of 683)\n    Line #54 (got 1 columns instead of 683)\n    Line #57 (got 1 columns instead of 683)\n    Line #58 (got 1 columns instead of 683)\n    Line #59 (got 1 columns instead of 683)\n    Line #62 (got 1 columns instead of 683)\n    Line #63 (got 1 columns instead of 683)\n    Line #64 (got 1 columns instead of 683)"
     ]
    }
   ],
   "source": [
    "import numpy as np\n",
    "import matplotlib.pyplot as plt\n",
    "\n",
    "# Einlesen der Daten aus der Textdatei\n",
    "data = np.genfromtxt(\"test_data.txt\", delimiter=\": \")\n",
    "\n",
    "# Extrahieren der x- und y-Werte aus den Daten\n",
    "x_values = data[:, 0]\n",
    "y_values = data[:, 1]\n",
    "\n",
    "# Plot der Punkte\n",
    "plt.plot(x_values, y_values, marker='o')\n",
    "plt.xlabel('X')\n",
    "plt.ylabel('Y')\n",
    "plt.title('Punkteplot')\n",
    "plt.grid(True)\n",
    "plt.show()\n"
   ]
  },
  {
   "cell_type": "markdown",
   "id": "f3b2fe08-bbb6-479d-838f-92537c7ca1de",
   "metadata": {},
   "source": [
    "Nehmen Sie von zwei LiDARs einen Scan auf. Gehen Sie davon aus, dass einer der Laserscanner im Ursprung eines karthesischen Koordinatensystems (Weltkoordinatensystem) angebracht ist und mit der Mittelachse genau in Richtung der y-Achse ausgerichtet ist. Fügen Sie die Daten des zweiten Laserscanners mittels geeigneter Rotation und Translation (Argumente experimentell bestimmen) in das Weltkoordinatensystem ein, so dass sich ein Gesamtbild in der Karte ergibt. Geben Sie die nötige Rotationsmatrix und den Translationsvektor an bzw. bauen Sie Ihre Datentransformation so auf, dass mit einer Rotationsmatrix und einem Translationsvektor gearbeitet wird.  "
   ]
  },
  {
   "cell_type": "code",
   "execution_count": null,
   "id": "cbd8155b-e2cb-40e4-bed1-70d477581509",
   "metadata": {},
   "outputs": [],
   "source": []
  },
  {
   "cell_type": "markdown",
   "id": "785834b0-dafa-4e01-a1f3-2afa14bffdd3",
   "metadata": {},
   "source": [
    "### Clustering der Daten"
   ]
  },
  {
   "cell_type": "markdown",
   "id": "1b25dd8c-833f-41a9-981b-6e761a4f329f",
   "metadata": {},
   "source": [
    "Führen Sie nun ein Clustering mittels DBSCAN aus der scikit-learn-Bibliothek auf den gesammelten LiDAR-Daten von einem Sensor durch. Verwenden Sie evtl. erstmal nur einen Teil, z.B. die ersten 100 Sensordimensionen (Entfernungswerte). Finden Sie geeignete Parameter “min_samples” und “eps”. Stellen  Sie die Cluster-Zuordnung der Punkte in der Karte dar. "
   ]
  },
  {
   "cell_type": "code",
   "execution_count": null,
   "id": "7815ed17-724e-44ab-889b-e452c45d397c",
   "metadata": {},
   "outputs": [],
   "source": []
  },
  {
   "cell_type": "markdown",
   "id": "143bec0a-8543-4a3d-bba4-72ab735d6bbb",
   "metadata": {},
   "source": [
    "Wieviele Cluster werden in Ihrem Datensatz identifiziert? Welche Objekte könnten es sein?"
   ]
  },
  {
   "cell_type": "markdown",
   "id": "c32e2e95-7923-489d-b03f-1c3a3836614e",
   "metadata": {},
   "source": []
  },
  {
   "cell_type": "markdown",
   "id": "d8fc883f-e119-4921-88b6-46e2816d46da",
   "metadata": {},
   "source": [
    "Sollte im LiDAR-Datensatz eine Standardisierung durchgeführt werden? Was spricht dafür und was dagegen? Beachten Sie die Arbeitsweise von DBSCAN."
   ]
  },
  {
   "cell_type": "markdown",
   "id": "4559eb5d-9135-4155-b231-78636304b8c7",
   "metadata": {},
   "source": []
  },
  {
   "cell_type": "markdown",
   "id": "90eb9ecc-ff2e-46e8-8945-de4d3f7e8b4c",
   "metadata": {},
   "source": [
    "Können Sie eine Daumenregel für die Wahl der Parameter von DBSCAN ableiten, so dass Objekte in der Umgebung als getrennte Objekte erkannt werden"
   ]
  },
  {
   "cell_type": "code",
   "execution_count": null,
   "id": "5b94919f-aa49-4426-b5a7-b694d326a9d5",
   "metadata": {},
   "outputs": [],
   "source": []
  },
  {
   "cell_type": "markdown",
   "id": "28d84266-6f65-4b82-b379-61048e92f82b",
   "metadata": {
    "tags": []
   },
   "source": [
    "## Bewegungserkennung\n",
    "Aus den Daten der Sensoren des Nucleo-Moduls soll nun eine Bewegung identifiziert werden."
   ]
  },
  {
   "cell_type": "markdown",
   "id": "c0e5f84d-849d-4dca-b504-b9cc8ccd354c",
   "metadata": {},
   "source": [
    "### Datenerfassung\n",
    "\n",
    "Verwenden Sie im folgenden das IKS01A3-Board und Ihr Programm, wie Sie es zum Sammeln der 12-dimensionalen 1024-Sample Datensätzen verwendet haben.\n",
    "\n",
    "Nehmen Sie einen Datensatz auf, in dem das Modul zunächst still in einer Postion (und Ausrichtung) steht, dann eine Bewegung durchgeführt wird (Translation und dann Rotation) und das Modul dann still in einer anderen Position (und Ausrichtung) steht. Dokumentieren (Skizze) Sie die Bewegung! (Empfehlung: Filmen Sie die Bewegung, damit Sie ggf. einige Punkte in den Datensätzen bei der Auswertung besser einer Bewegung zuordnen können.)\n",
    "\n",
    "### Auswertung\n",
    "Stellen Sie sich diesen Datensatz graphisch als Plot (2D/3D) dar und prüfen Sie, ob die verschiedenen Phasen zu erkennen sind. Zeigen Sie hier einen geeigneten Plot/Ausschnitt."
   ]
  },
  {
   "cell_type": "code",
   "execution_count": null,
   "id": "27144c36-96c0-4dd3-b6ab-212297e276c0",
   "metadata": {},
   "outputs": [],
   "source": []
  },
  {
   "cell_type": "markdown",
   "id": "f090954d-eeb0-4f78-9ecd-ac205a8d49a7",
   "metadata": {},
   "source": [
    "Versuchen Sie mittels Clustering-Algorithmus (k-Means und DBSCAN) die Bewegungen/Bewegungsabschnitte in den Daten zu identifizieren. Welches Verfahren kann wie gut die Bewegung/Bewegungsabschnitte bei welchen Parametern identifizieren? Welche Normierung/Skalierung war sinnvoll? Ist eine Reduktion mit PCA sinnvoll? Stellen Sie die Ergebnisse des Clusterings ggf. auch in Plots über die Zeit dar.\n",
    "\n",
    "Fügen Sie hier Ihre Analyse kommentiert ein."
   ]
  },
  {
   "cell_type": "code",
   "execution_count": null,
   "id": "c2d80827-b979-44df-afd0-a02506641278",
   "metadata": {},
   "outputs": [],
   "source": []
  },
  {
   "cell_type": "markdown",
   "id": "87b480c9-1c93-4354-8989-e7c7892c5ad6",
   "metadata": {},
   "source": [
    "### Sensorsystem\n",
    "Wenn Sie nun das Sensorboard zusammen mit den Cluster-Algorithmen als Sensorsystem betrachten, welche Information(en) könnte die Schnittstelle des Sensorsystems als Ergebnis der Klassifikation bereitstellen? "
   ]
  },
  {
   "cell_type": "markdown",
   "id": "02b02448",
   "metadata": {},
   "source": [
    "- Wenn die Klassifizierungen bereits bei der Ausgabe der Sensordaten angewendet werden, dann werden einzelne Datenpunkte gesammelt und als eine spezifische Bewegung interpretiert/ausgegeben --> ordnet Datenpunkte und Folgeaufnahmen einer Bewegung zu"
   ]
  }
 ],
 "metadata": {
  "kernelspec": {
   "display_name": "Python 3 (ipykernel)",
   "language": "python",
   "name": "python3"
  },
  "language_info": {
   "codemirror_mode": {
    "name": "ipython",
    "version": 3
   },
   "file_extension": ".py",
   "mimetype": "text/x-python",
   "name": "python",
   "nbconvert_exporter": "python",
   "pygments_lexer": "ipython3",
   "version": "3.9.12"
  }
 },
 "nbformat": 4,
 "nbformat_minor": 5
}
