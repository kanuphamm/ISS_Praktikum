{
 "cells": [
  {
   "cell_type": "markdown",
   "id": "eafc4fcf-0a48-41c8-a92e-e77575c87916",
   "metadata": {},
   "source": [
    "# Praktikum Intelligente Sensortechnik 4\n",
    "Tim Tiedemann, Thomas Lehmann, Tobias De Gasparis\n",
    "\n",
    "Version 11.05.2023"
   ]
  },
  {
   "cell_type": "markdown",
   "id": "7cf12a59-7e4b-4e09-89f9-447fff74170b",
   "metadata": {},
   "source": [
    "# Einfache intelligente Sensoren und Datenvorverarbeitung\n",
    "Im Praktikum 4 geht es um die Verarbeitung hochdimensionaler Daten bzw. die Klassifikation der Daten.\n",
    "\n",
    "Lesen Sie sich die Aufgaben gut durch. Sollten Sie eine Aufgabe nicht lösen können, so beschreiben Sie zumindest, wie weit Sie gekommen sind und auf welche Weise Sie vorgegangen sind.\n",
    "\n",
    "Beachten Sie auf der methodischen Seite, dass die Schritte der Datenerhebung, der Datenauswertung und der Kommentierung des Ergebnisses ausgeführt werden. Alle Diagramme sind korrekt zu beschriften.\n",
    "\n",
    "Die Aufgaben sind direkt hier als Protokoll zu bearbeiten. Das abgegebene Notebook soll ausführbar sein. Daneben ist der PDF-Export des Notebook mit abzugeben."
   ]
  },
  {
   "cell_type": "markdown",
   "id": "0537730a-2b4a-4a61-89f5-8ff590f6dc7a",
   "metadata": {},
   "source": [
    "Autoren des Protokolls: Khanh Nhu Pham, Berivan Elmas"
   ]
  },
  {
   "cell_type": "markdown",
   "id": "b4afe8f3-c64f-4c97-b006-4c88cab5638f",
   "metadata": {},
   "source": [
    "# Hintergrund\n",
    "Intelligente Sensoren sollen nicht nur Daten erfassen, sondern direkt eine Klassifikation mit Informationen auf abstrakterer Ebene aus der Umwelt liefern. Beispielsweise soll eine Geste oder Gegenstände erkannt werden und diese Information über die Schnittstelle zu weiteren Systemkomponenten bereitgestellt werden. In diesem Praktikum wird die Leistungsfähigkeit der Klassifikation einfacher Algorithmen des nicht-überwachten Machine Learnings für diese Aufgabe untersucht."
   ]
  },
  {
   "cell_type": "markdown",
   "id": "de19e183-f52a-42cb-adce-ee835c36cead",
   "metadata": {},
   "source": [
    "# Vorbereitungsaufgaben\n",
    "## Sensoren mit hochdimensionaler Ausgabe von Daten\n",
    "Besorgen Sie sich Informationen zu den folgenden Sensoren: \n",
    "\n",
    "- Hokuyo URG-04LX-UG01\n",
    "- Hokuyo UTM-30LX-EW\n",
    "- Velodyne VLP-16\n",
    "\n",
    "Um was für einen Sensor handelt es sich jeweils und welches Messprinzip wird verwendet? Was wird gemessen? Was sind hier der Messbereich, die Auflösung und die Sample-/Messrate?"
   ]
  },
  {
   "cell_type": "markdown",
   "id": "e3568755-8972-40b1-a648-825c9496c3e7",
   "metadata": {},
   "source": [
    "- Hokuyo URG-04LX-UG01\n",
    "    - Umgebungsscanner über Infrarot, Phasenverschiebung\n",
    "    - Messbereich: 20mm-4000mm\n",
    "    - Die Messrate beträgt 10Hz\n",
    "    - Die Auflösung beträgt 1mm\n",
    "    \n",
    "- Hokuyo UTM-30LX-EW\n",
    "    - Umgebungsscanner, Triangulationsprinzip\n",
    "    - Messbereich: 0.1m-30m\n",
    "    - Die Messrate beträgt 40Hz\n",
    "    - Die Auflösung beträgt 1mm\n",
    "    \n",
    "- Velodyne VLP-16\n",
    "    - Distanzmessung über Infrarot, TOF\n",
    "    - Messbereich:100m\n",
    "    - Die Samplerate beträgt 18.08 kHz pro IR-Detektor\n",
    "    - Die Winkelauflösung beträgt horizontal 0.1°-0.4° und vertikal 2.0°"
   ]
  },
  {
   "cell_type": "markdown",
   "id": "a3f8f7ad-66f6-457d-94e2-0dc5c5c00cad",
   "metadata": {},
   "source": [
    "Über welche Schnittstelle(n) können die Messdaten ausgegeben werden? Wie werden jeweils Betriebsspannung und Datenleitungen angeschlossen?"
   ]
  },
  {
   "cell_type": "markdown",
   "id": "e65eea1c-84a7-495b-967a-c980d0b04ffe",
   "metadata": {},
   "source": [
    "- Hokuyo URG-04LX-UG01 USB\n",
    "- Hokuyo UTM-30LX-EW Datenblatt Abschnitt 6.1 S.4\n",
    "- Velodyne VLP-16 User Manual Abschnitt 2.1 S.18"
   ]
  },
  {
   "cell_type": "markdown",
   "id": "e3a13536-be2f-45f4-a51e-adcec495b336",
   "metadata": {},
   "source": [
    "# Im Labor"
   ]
  },
  {
   "cell_type": "markdown",
   "id": "bb6876b9-d62b-4f2e-8963-e48e0cedc2e2",
   "metadata": {
    "tags": []
   },
   "source": [
    "## Objektidentifikation in Daten von Laserscannern\n",
    "Mit LiDARs vom Typ Hokuyo URG-04LX-UG01 sollen Sie die Umgebung der Sensoren erfassen und mittels Clustering-Algorithmus auswerten. Sie sollen untersuchen, ob die Objekte der Umgebung durch den Cluster-Algorithmus gefunden werden."
   ]
  },
  {
   "cell_type": "markdown",
   "id": "f83dfd96-912e-454d-9e64-e51c96e67185",
   "metadata": {},
   "source": [
    "### Datenerfassung"
   ]
  },
  {
   "cell_type": "markdown",
   "id": "ad956e31-648e-4968-ad7f-47e22952feb4",
   "metadata": {
    "tags": []
   },
   "source": [
    "Verwenden Sie in Absprache mit dem Laborbetreuer einen Sensor vom Typ Hokuyo URG-04LX-UG01 für die Datenerfassung. Wie werden Daten erfasst und wie können sie auf diese zugreifen?"
   ]
  },
  {
   "cell_type": "markdown",
   "id": "4305ad07",
   "metadata": {},
   "source": [
    "- Über einen eingerichteten Remote-Zugriff kann nach der Anleitung (s.Teams) ein Zugriff auf die Daten, welche nach Ausführen des Skripts gemessen werden, zugegriffen werden. Die Daten werden in der Konsole ausgegeben, über die das Skript ausgeführt wurde."
   ]
  },
  {
   "cell_type": "markdown",
   "id": "1d39109e-5181-464a-8596-17f542e18e18",
   "metadata": {},
   "source": []
  },
  {
   "cell_type": "markdown",
   "id": "1ed41f47-d7ce-481e-8d49-4242769d2456",
   "metadata": {},
   "source": [
    "Sammeln Sie Daten von einem Scan und versuchen Sie die Daten in einer zweidimensionalen Karte darzustellen. Können Sie Objekte in der Umgebung identifizieren?"
   ]
  },
  {
   "cell_type": "code",
   "execution_count": 54,
   "id": "bb034f08-6329-4a68-9ff4-5205befa7d49",
   "metadata": {},
   "outputs": [
    {
     "ename": "PermissionError",
     "evalue": "[Errno 13] Permission denied: 'test_data.csv'",
     "output_type": "error",
     "traceback": [
      "\u001b[1;31m---------------------------------------------------------------------------\u001b[0m",
      "\u001b[1;31mPermissionError\u001b[0m                           Traceback (most recent call last)",
      "Input \u001b[1;32mIn [54]\u001b[0m, in \u001b[0;36m<cell line: 11>\u001b[1;34m()\u001b[0m\n\u001b[0;32m      9\u001b[0m content \u001b[38;5;241m=\u001b[39m content\u001b[38;5;241m.\u001b[39mreplace(\u001b[38;5;124m'\u001b[39m\u001b[38;5;124m,\u001b[39m\u001b[38;5;124m'\u001b[39m, \u001b[38;5;124m'\u001b[39m\u001b[38;5;130;01m\\n\u001b[39;00m\u001b[38;5;124m'\u001b[39m)\n\u001b[0;32m     10\u001b[0m content \u001b[38;5;241m=\u001b[39m content\u001b[38;5;241m.\u001b[39mreplace(\u001b[38;5;124m'\u001b[39m\u001b[38;5;124m \u001b[39m\u001b[38;5;124m'\u001b[39m, \u001b[38;5;124m'\u001b[39m\u001b[38;5;124m'\u001b[39m)\n\u001b[1;32m---> 11\u001b[0m \u001b[38;5;28;01mwith\u001b[39;00m \u001b[38;5;28;43mopen\u001b[39;49m\u001b[43m(\u001b[49m\u001b[38;5;124;43m'\u001b[39;49m\u001b[38;5;124;43mtest_data.csv\u001b[39;49m\u001b[38;5;124;43m'\u001b[39;49m\u001b[43m,\u001b[49m\u001b[43m \u001b[49m\u001b[38;5;124;43m'\u001b[39;49m\u001b[38;5;124;43mw\u001b[39;49m\u001b[38;5;124;43m'\u001b[39;49m\u001b[43m,\u001b[49m\u001b[43m \u001b[49m\u001b[43mnewline\u001b[49m\u001b[38;5;241;43m=\u001b[39;49m\u001b[38;5;124;43m'\u001b[39;49m\u001b[38;5;124;43m'\u001b[39;49m\u001b[43m)\u001b[49m \u001b[38;5;28;01mas\u001b[39;00m file:\n\u001b[0;32m     12\u001b[0m     writer \u001b[38;5;241m=\u001b[39m csv\u001b[38;5;241m.\u001b[39mwriter(file)\n\u001b[0;32m     13\u001b[0m     \u001b[38;5;28;01mfor\u001b[39;00m line \u001b[38;5;129;01min\u001b[39;00m content\u001b[38;5;241m.\u001b[39msplit(\u001b[38;5;124m'\u001b[39m\u001b[38;5;130;01m\\n\u001b[39;00m\u001b[38;5;124m'\u001b[39m):\n",
      "\u001b[1;31mPermissionError\u001b[0m: [Errno 13] Permission denied: 'test_data.csv'"
     ]
    }
   ],
   "source": [
    "import csv\n",
    "import matplotlib.pyplot as plt\n",
    "import numpy as np\n",
    "\n",
    "with open('test_data.txt', 'r') as file:\n",
    "    content = file.read()\n",
    "\n",
    "content = content.replace(':', ';')\n",
    "content = content.replace(',', '\\n')\n",
    "content = content.replace(' ', '')\n",
    "with open('test_data.csv', 'w', newline='') as file:\n",
    "    writer = csv.writer(file)\n",
    "    for line in content.split('\\n'):\n",
    "        writer.writerow(line.split(';'))\n",
    "\n",
    "data = np.genfromtxt(\"test_data.csv\", delimiter=\";\")\n",
    "\n",
    "plt.plot(data)\n",
    "plt.title(\"title\")\n",
    "plt.xlabel(\"x\")\n",
    "plt.ylabel(\"[ y ]\")\n",
    "plt.show()\n",
    "\n",
    "\n",
    "# Daten aus der CSV-Datei lesen\n",
    "with open('test_data.csv', 'r') as file:\n",
    "    reader = csv.reader(file)\n",
    "    data = list(reader)\n",
    "\n",
    "# Daten in separate Listen für Winkel und Radien aufteilen\n",
    "winkel = []\n",
    "distance = []\n",
    "for row in data:\n",
    "    winkel.append(float(row[0]))\n",
    "    distance.append(float(row[1]))\n",
    "\n",
    "# Polarkoordinatenplot erstellen\n",
    "fig = plt.figure()\n",
    "ax = fig.add_subplot(111, polar=True)\n",
    "\n",
    "# Daten plotten\n",
    "ax.plot(np.radians(winkel), distance)\n",
    "\n",
    "# Achsenbeschriftungen einstellen\n",
    "ax.set_xticks(np.radians([0, 45, 90, 135, 180, 225, 270, 315]))\n",
    "ax.set_xticklabels(['0°', '45°', '90°', '135°', '180°', '225°', '270°', '315°'])\n",
    "\n",
    "# Plot anzeigen\n",
    "plt.show()"
   ]
  },
  {
   "cell_type": "code",
   "execution_count": null,
   "id": "214aef2c",
   "metadata": {},
   "outputs": [],
   "source": [
    "import matplotlib.pyplot as plt\n",
    "import numpy as np\n",
    "import math\n",
    "\n",
    "x_values = []\n",
    "y_values = []\n",
    "\n",
    "# Daten sammeln\n",
    "with open(\"test_data.txt\", \"r\") as file:\n",
    "    scan_data = file.read()\n",
    "\n",
    "# Daten in x- und y-Koordinaten aufteilen\n",
    "data_pairs = scan_data.split(\", \")\n",
    "\n",
    "for pair in data_pairs:\n",
    "    x, y = pair.split(\":\")\n",
    "    valx = float(y)*math.cos((float(x))*(math.pi/180))\n",
    "    valy = float(y)*math.sin((float(x))*(math.pi/180))\n",
    "    x_values.append(valx)\n",
    "    y_values.append(valy)\n",
    "\n",
    "# CSV-Datei schreiben\n",
    "with open('test_data.csv', mode='w', newline='') as file:\n",
    "    writer = csv.writer(file)\n",
    "    writer.writerow(['X', 'Y'])  # Header schreiben\n",
    "    for i in range(len(x_values)):\n",
    "        writer.writerow([x_values[i], y_values[i]])  # Datenzeilen schreiben\n",
    "\n",
    "# Plot erstellen\n",
    "plt.scatter(x_values, y_values)\n",
    "plt.xlabel('X')\n",
    "plt.ylabel('Y')\n",
    "plt.title('Zweidimensionale Karte')\n",
    "plt.grid(True)\n",
    "plt.show()\n",
    "# Zweidimensionale Karte erstellen\n",
    "# plt.scatter(x, y)\n",
    "\n",
    "# Plot anzeigen\n",
    "plt.show()"
   ]
  },
  {
   "cell_type": "code",
   "execution_count": null,
   "id": "8fbed42c",
   "metadata": {},
   "outputs": [],
   "source": []
  },
  {
   "cell_type": "markdown",
   "id": "f3b2fe08-bbb6-479d-838f-92537c7ca1de",
   "metadata": {},
   "source": [
    "Nehmen Sie von zwei LiDARs einen Scan auf. Gehen Sie davon aus, dass einer der Laserscanner im Ursprung eines karthesischen Koordinatensystems (Weltkoordinatensystem) angebracht ist und mit der Mittelachse genau in Richtung der y-Achse ausgerichtet ist. Fügen Sie die Daten des zweiten Laserscanners mittels geeigneter Rotation und Translation (Argumente experimentell bestimmen) in das Weltkoordinatensystem ein, so dass sich ein Gesamtbild in der Karte ergibt. Geben Sie die nötige Rotationsmatrix und den Translationsvektor an bzw. bauen Sie Ihre Datentransformation so auf, dass mit einer Rotationsmatrix und einem Translationsvektor gearbeitet wird.  "
   ]
  },
  {
   "cell_type": "code",
   "execution_count": null,
   "id": "cbd8155b-e2cb-40e4-bed1-70d477581509",
   "metadata": {},
   "outputs": [],
   "source": []
  },
  {
   "cell_type": "markdown",
   "id": "785834b0-dafa-4e01-a1f3-2afa14bffdd3",
   "metadata": {},
   "source": [
    "### Clustering der Daten"
   ]
  },
  {
   "cell_type": "markdown",
   "id": "1b25dd8c-833f-41a9-981b-6e761a4f329f",
   "metadata": {},
   "source": [
    "Führen Sie nun ein Clustering mittels DBSCAN aus der scikit-learn-Bibliothek auf den gesammelten LiDAR-Daten von einem Sensor durch. Verwenden Sie evtl. erstmal nur einen Teil, z.B. die ersten 100 Sensordimensionen (Entfernungswerte). Finden Sie geeignete Parameter “min_samples” und “eps”. Stellen  Sie die Cluster-Zuordnung der Punkte in der Karte dar. "
   ]
  },
  {
   "cell_type": "code",
   "execution_count": 59,
   "id": "7815ed17-724e-44ab-889b-e452c45d397c",
   "metadata": {},
   "outputs": [
    {
     "name": "stdout",
     "output_type": "stream",
     "text": [
      "[[-762.83723831 1327.41867843]\n",
      " [-750.22952736 1324.25060177]\n",
      " [-738.17729304 1321.8510824 ]\n",
      " ...\n",
      " [-353.97405201 -633.85989816]\n",
      " [-355.89074819 -628.1924668 ]\n",
      " [-359.74427568 -625.99365501]]\n"
     ]
    },
    {
     "data": {
      "image/png": "[encoded data removed]",
      "text/plain": [
       "<Figure size 720x576 with 1 Axes>"
      ]
     },
     "metadata": {
      "needs_background": "light"
     },
     "output_type": "display_data"
    }
   ],
   "source": [
    "test_data = np.genfromtxt(\"test1_data.csv\", delimiter=\",\", skip_header=1)\n",
    "print(test_data)\n",
    "\n",
    "import numpy as np\n",
    "from sklearn.cluster import DBSCAN\n",
    "import matplotlib.pyplot as plt\n",
    "import pandas as pd\n",
    "\n",
    "# LiDAR-Daten aus der CSV-Datei laden\n",
    "lidar_data = pd.read_csv('test_data.csv')\n",
    "lidar_coordinates = lidar_data.iloc[:, :2].values[:100]\n",
    "lidar_subset = lidar_data.iloc[:, :1000].values  # Die ersten 100 Sensordimensionen verwenden\n",
    "\n",
    "# Parameter für DBSCAN\n",
    "min_samples = 5  # Anzahl der Nachbarn, um einen Kernpunkt zu definieren\n",
    "eps = 150  # Maximaler Abstand zwischen Punkten, um sie als Nachbarn zu betrachten\n",
    "\n",
    "# DBSCAN-Modell erstellen und Clustering durchführen\n",
    "dbscan = DBSCAN(eps=eps, min_samples=min_samples)\n",
    "clusters = dbscan.fit_predict(lidar_subset)\n",
    "\n",
    "# Cluster-Labels abrufen\n",
    "unique_labels = np.unique(clusters)\n",
    "\n",
    "# Cluster-Zuordnung auf einer Karte darstellen\n",
    "plt.figure(figsize=(10, 8))\n",
    "for label in unique_labels:\n",
    "    if label == -1:\n",
    "        # Rauschen (Outlier) in Grau darstellen\n",
    "        color = 'gray'\n",
    "    else:\n",
    "        # Verschiedene Cluster mit unterschiedlichen Farben darstellen\n",
    "        color = plt.cm.jet(float(label) / np.max(clusters + 1))\n",
    "    cluster_points = lidar_subset[clusters == label]\n",
    "    plt.scatter(cluster_points[:, 0], cluster_points[:, 1], s=10, color=color)\n",
    "\n",
    "plt.xlabel('X-Koordinate')\n",
    "plt.ylabel('Y-Koordinate')\n",
    "plt.title('DBSCAN-Clustering der LiDAR-Daten')\n",
    "plt.show()\n"
   ]
  },
  {
   "cell_type": "markdown",
   "id": "143bec0a-8543-4a3d-bba4-72ab735d6bbb",
   "metadata": {},
   "source": [
    "Wieviele Cluster werden in Ihrem Datensatz identifiziert? Welche Objekte könnten es sein?"
   ]
  },
  {
   "cell_type": "markdown",
   "id": "c32e2e95-7923-489d-b03f-1c3a3836614e",
   "metadata": {},
   "source": []
  },
  {
   "cell_type": "markdown",
   "id": "d8fc883f-e119-4921-88b6-46e2816d46da",
   "metadata": {},
   "source": [
    "Sollte im LiDAR-Datensatz eine Standardisierung durchgeführt werden? Was spricht dafür und was dagegen? Beachten Sie die Arbeitsweise von DBSCAN."
   ]
  },
  {
   "cell_type": "markdown",
   "id": "4559eb5d-9135-4155-b231-78636304b8c7",
   "metadata": {},
   "source": []
  },
  {
   "cell_type": "markdown",
   "id": "90eb9ecc-ff2e-46e8-8945-de4d3f7e8b4c",
   "metadata": {},
   "source": [
    "Können Sie eine Daumenregel für die Wahl der Parameter von DBSCAN ableiten, so dass Objekte in der Umgebung als getrennte Objekte erkannt werden"
   ]
  },
  {
   "cell_type": "code",
   "execution_count": null,
   "id": "5b94919f-aa49-4426-b5a7-b694d326a9d5",
   "metadata": {},
   "outputs": [],
   "source": []
  },
  {
   "cell_type": "markdown",
   "id": "28d84266-6f65-4b82-b379-61048e92f82b",
   "metadata": {
    "tags": []
   },
   "source": [
    "## Bewegungserkennung\n",
    "Aus den Daten der Sensoren des Nucleo-Moduls soll nun eine Bewegung identifiziert werden."
   ]
  },
  {
   "cell_type": "markdown",
   "id": "c0e5f84d-849d-4dca-b504-b9cc8ccd354c",
   "metadata": {},
   "source": [
    "### Datenerfassung\n",
    "\n",
    "Verwenden Sie im folgenden das IKS01A3-Board und Ihr Programm, wie Sie es zum Sammeln der 12-dimensionalen 1024-Sample Datensätzen verwendet haben.\n",
    "\n",
    "Nehmen Sie einen Datensatz auf, in dem das Modul zunächst still in einer Postion (und Ausrichtung) steht, dann eine Bewegung durchgeführt wird (Translation und dann Rotation) und das Modul dann still in einer anderen Position (und Ausrichtung) steht. Dokumentieren (Skizze) Sie die Bewegung! (Empfehlung: Filmen Sie die Bewegung, damit Sie ggf. einige Punkte in den Datensätzen bei der Auswertung besser einer Bewegung zuordnen können.)\n",
    "\n",
    "### Auswertung\n",
    "Stellen Sie sich diesen Datensatz graphisch als Plot (2D/3D) dar und prüfen Sie, ob die verschiedenen Phasen zu erkennen sind. Zeigen Sie hier einen geeigneten Plot/Ausschnitt."
   ]
  },
  {
   "cell_type": "code",
   "execution_count": null,
   "id": "27144c36-96c0-4dd3-b6ab-212297e276c0",
   "metadata": {},
   "outputs": [],
   "source": []
  },
  {
   "cell_type": "markdown",
   "id": "f090954d-eeb0-4f78-9ecd-ac205a8d49a7",
   "metadata": {},
   "source": [
    "Versuchen Sie mittels Clustering-Algorithmus (k-Means und DBSCAN) die Bewegungen/Bewegungsabschnitte in den Daten zu identifizieren. Welches Verfahren kann wie gut die Bewegung/Bewegungsabschnitte bei welchen Parametern identifizieren? Welche Normierung/Skalierung war sinnvoll? Ist eine Reduktion mit PCA sinnvoll? Stellen Sie die Ergebnisse des Clusterings ggf. auch in Plots über die Zeit dar.\n",
    "\n",
    "Fügen Sie hier Ihre Analyse kommentiert ein."
   ]
  },
  {
   "cell_type": "code",
   "execution_count": 69,
   "id": "c2d80827-b979-44df-afd0-a02506641278",
   "metadata": {},
   "outputs": [
    {
     "name": "stdout",
     "output_type": "stream",
     "text": [
      "[[-762.83723831 1327.41867843]\n",
      " [-750.22952736 1324.25060177]\n",
      " [-738.17729304 1321.8510824 ]\n",
      " ...\n",
      " [-353.97405201 -633.85989816]\n",
      " [-355.89074819 -628.1924668 ]\n",
      " [-359.74427568 -625.99365501]]\n"
     ]
    },
    {
     "ename": "IndexError",
     "evalue": "Boolean index has wrong length: 682 instead of 0",
     "output_type": "error",
     "traceback": [
      "\u001b[1;31m---------------------------------------------------------------------------\u001b[0m",
      "\u001b[1;31mIndexError\u001b[0m                                Traceback (most recent call last)",
      "Input \u001b[1;32mIn [69]\u001b[0m, in \u001b[0;36m<cell line: 11>\u001b[1;34m()\u001b[0m\n\u001b[0;32m      9\u001b[0m \u001b[38;5;66;03m# LiDAR-Daten aus der CSV-Datei laden\u001b[39;00m\n\u001b[0;32m     10\u001b[0m lidar_data_nuc \u001b[38;5;241m=\u001b[39m pd\u001b[38;5;241m.\u001b[39mread_csv(\u001b[38;5;124m'\u001b[39m\u001b[38;5;124mC:/Users/Januar.KP-LAPTOP/Documents/6_Semester/ISS/ISS_Praktikum/Praktikum3/DataSets/Datensatz1.csv\u001b[39m\u001b[38;5;124m'\u001b[39m, skiprows\u001b[38;5;241m=\u001b[39m\u001b[38;5;241m1\u001b[39m, usecols\u001b[38;5;241m=\u001b[39m\u001b[38;5;28mrange\u001b[39m(\u001b[38;5;241m1\u001b[39m, lidar_data_nuc\u001b[38;5;241m.\u001b[39mshape[\u001b[38;5;241m1\u001b[39m]))\n\u001b[1;32m---> 11\u001b[0m lidar_coordinates \u001b[38;5;241m=\u001b[39m \u001b[43mlidar_data_nuc\u001b[49m\u001b[38;5;241;43m.\u001b[39;49m\u001b[43miloc\u001b[49m\u001b[43m[\u001b[49m\u001b[43mclusters\u001b[49m\u001b[43m \u001b[49m\u001b[38;5;241;43m==\u001b[39;49m\u001b[43m \u001b[49m\u001b[43mlabel\u001b[49m\u001b[43m,\u001b[49m\u001b[43m \u001b[49m\u001b[43m:\u001b[49m\u001b[38;5;241;43m12\u001b[39;49m\u001b[43m]\u001b[49m\n\u001b[0;32m     12\u001b[0m \u001b[38;5;66;03m#lidar_subset = lidar_data.iloc[:, :1000].values  # Die ersten 100 Sensordimensionen verwenden\u001b[39;00m\n\u001b[0;32m     13\u001b[0m \u001b[38;5;28mprint\u001b[39m(lidar_data_nuc)\n",
      "File \u001b[1;32m~\\anaconda3\\lib\\site-packages\\pandas\\core\\indexing.py:961\u001b[0m, in \u001b[0;36m_LocationIndexer.__getitem__\u001b[1;34m(self, key)\u001b[0m\n\u001b[0;32m    959\u001b[0m     \u001b[38;5;28;01mif\u001b[39;00m \u001b[38;5;28mself\u001b[39m\u001b[38;5;241m.\u001b[39m_is_scalar_access(key):\n\u001b[0;32m    960\u001b[0m         \u001b[38;5;28;01mreturn\u001b[39;00m \u001b[38;5;28mself\u001b[39m\u001b[38;5;241m.\u001b[39mobj\u001b[38;5;241m.\u001b[39m_get_value(\u001b[38;5;241m*\u001b[39mkey, takeable\u001b[38;5;241m=\u001b[39m\u001b[38;5;28mself\u001b[39m\u001b[38;5;241m.\u001b[39m_takeable)\n\u001b[1;32m--> 961\u001b[0m     \u001b[38;5;28;01mreturn\u001b[39;00m \u001b[38;5;28;43mself\u001b[39;49m\u001b[38;5;241;43m.\u001b[39;49m\u001b[43m_getitem_tuple\u001b[49m\u001b[43m(\u001b[49m\u001b[43mkey\u001b[49m\u001b[43m)\u001b[49m\n\u001b[0;32m    962\u001b[0m \u001b[38;5;28;01melse\u001b[39;00m:\n\u001b[0;32m    963\u001b[0m     \u001b[38;5;66;03m# we by definition only have the 0th axis\u001b[39;00m\n\u001b[0;32m    964\u001b[0m     axis \u001b[38;5;241m=\u001b[39m \u001b[38;5;28mself\u001b[39m\u001b[38;5;241m.\u001b[39maxis \u001b[38;5;129;01mor\u001b[39;00m \u001b[38;5;241m0\u001b[39m\n",
      "File \u001b[1;32m~\\anaconda3\\lib\\site-packages\\pandas\\core\\indexing.py:1462\u001b[0m, in \u001b[0;36m_iLocIndexer._getitem_tuple\u001b[1;34m(self, tup)\u001b[0m\n\u001b[0;32m   1459\u001b[0m \u001b[38;5;28;01mwith\u001b[39;00m suppress(IndexingError):\n\u001b[0;32m   1460\u001b[0m     \u001b[38;5;28;01mreturn\u001b[39;00m \u001b[38;5;28mself\u001b[39m\u001b[38;5;241m.\u001b[39m_getitem_lowerdim(tup)\n\u001b[1;32m-> 1462\u001b[0m \u001b[38;5;28;01mreturn\u001b[39;00m \u001b[38;5;28;43mself\u001b[39;49m\u001b[38;5;241;43m.\u001b[39;49m\u001b[43m_getitem_tuple_same_dim\u001b[49m\u001b[43m(\u001b[49m\u001b[43mtup\u001b[49m\u001b[43m)\u001b[49m\n",
      "File \u001b[1;32m~\\anaconda3\\lib\\site-packages\\pandas\\core\\indexing.py:827\u001b[0m, in \u001b[0;36m_LocationIndexer._getitem_tuple_same_dim\u001b[1;34m(self, tup)\u001b[0m\n\u001b[0;32m    824\u001b[0m \u001b[38;5;28;01mif\u001b[39;00m com\u001b[38;5;241m.\u001b[39mis_null_slice(key):\n\u001b[0;32m    825\u001b[0m     \u001b[38;5;28;01mcontinue\u001b[39;00m\n\u001b[1;32m--> 827\u001b[0m retval \u001b[38;5;241m=\u001b[39m \u001b[38;5;28;43mgetattr\u001b[39;49m\u001b[43m(\u001b[49m\u001b[43mretval\u001b[49m\u001b[43m,\u001b[49m\u001b[43m \u001b[49m\u001b[38;5;28;43mself\u001b[39;49m\u001b[38;5;241;43m.\u001b[39;49m\u001b[43mname\u001b[49m\u001b[43m)\u001b[49m\u001b[38;5;241;43m.\u001b[39;49m\u001b[43m_getitem_axis\u001b[49m\u001b[43m(\u001b[49m\u001b[43mkey\u001b[49m\u001b[43m,\u001b[49m\u001b[43m \u001b[49m\u001b[43maxis\u001b[49m\u001b[38;5;241;43m=\u001b[39;49m\u001b[43mi\u001b[49m\u001b[43m)\u001b[49m\n\u001b[0;32m    828\u001b[0m \u001b[38;5;66;03m# We should never have retval.ndim < self.ndim, as that should\u001b[39;00m\n\u001b[0;32m    829\u001b[0m \u001b[38;5;66;03m#  be handled by the _getitem_lowerdim call above.\u001b[39;00m\n\u001b[0;32m    830\u001b[0m \u001b[38;5;28;01massert\u001b[39;00m retval\u001b[38;5;241m.\u001b[39mndim \u001b[38;5;241m==\u001b[39m \u001b[38;5;28mself\u001b[39m\u001b[38;5;241m.\u001b[39mndim\n",
      "File \u001b[1;32m~\\anaconda3\\lib\\site-packages\\pandas\\core\\indexing.py:1507\u001b[0m, in \u001b[0;36m_iLocIndexer._getitem_axis\u001b[1;34m(self, key, axis)\u001b[0m\n\u001b[0;32m   1505\u001b[0m \u001b[38;5;28;01mif\u001b[39;00m com\u001b[38;5;241m.\u001b[39mis_bool_indexer(key):\n\u001b[0;32m   1506\u001b[0m     \u001b[38;5;28mself\u001b[39m\u001b[38;5;241m.\u001b[39m_validate_key(key, axis)\n\u001b[1;32m-> 1507\u001b[0m     \u001b[38;5;28;01mreturn\u001b[39;00m \u001b[38;5;28;43mself\u001b[39;49m\u001b[38;5;241;43m.\u001b[39;49m\u001b[43m_getbool_axis\u001b[49m\u001b[43m(\u001b[49m\u001b[43mkey\u001b[49m\u001b[43m,\u001b[49m\u001b[43m \u001b[49m\u001b[43maxis\u001b[49m\u001b[38;5;241;43m=\u001b[39;49m\u001b[43maxis\u001b[49m\u001b[43m)\u001b[49m\n\u001b[0;32m   1509\u001b[0m \u001b[38;5;66;03m# a list of integers\u001b[39;00m\n\u001b[0;32m   1510\u001b[0m \u001b[38;5;28;01melif\u001b[39;00m is_list_like_indexer(key):\n",
      "File \u001b[1;32m~\\anaconda3\\lib\\site-packages\\pandas\\core\\indexing.py:984\u001b[0m, in \u001b[0;36m_LocationIndexer._getbool_axis\u001b[1;34m(self, key, axis)\u001b[0m\n\u001b[0;32m    981\u001b[0m \u001b[38;5;28;01mdef\u001b[39;00m \u001b[38;5;21m_getbool_axis\u001b[39m(\u001b[38;5;28mself\u001b[39m, key, axis: \u001b[38;5;28mint\u001b[39m):\n\u001b[0;32m    982\u001b[0m     \u001b[38;5;66;03m# caller is responsible for ensuring non-None axis\u001b[39;00m\n\u001b[0;32m    983\u001b[0m     labels \u001b[38;5;241m=\u001b[39m \u001b[38;5;28mself\u001b[39m\u001b[38;5;241m.\u001b[39mobj\u001b[38;5;241m.\u001b[39m_get_axis(axis)\n\u001b[1;32m--> 984\u001b[0m     key \u001b[38;5;241m=\u001b[39m \u001b[43mcheck_bool_indexer\u001b[49m\u001b[43m(\u001b[49m\u001b[43mlabels\u001b[49m\u001b[43m,\u001b[49m\u001b[43m \u001b[49m\u001b[43mkey\u001b[49m\u001b[43m)\u001b[49m\n\u001b[0;32m    985\u001b[0m     inds \u001b[38;5;241m=\u001b[39m key\u001b[38;5;241m.\u001b[39mnonzero()[\u001b[38;5;241m0\u001b[39m]\n\u001b[0;32m    986\u001b[0m     \u001b[38;5;28;01mreturn\u001b[39;00m \u001b[38;5;28mself\u001b[39m\u001b[38;5;241m.\u001b[39mobj\u001b[38;5;241m.\u001b[39m_take_with_is_copy(inds, axis\u001b[38;5;241m=\u001b[39maxis)\n",
      "File \u001b[1;32m~\\anaconda3\\lib\\site-packages\\pandas\\core\\indexing.py:2396\u001b[0m, in \u001b[0;36mcheck_bool_indexer\u001b[1;34m(index, key)\u001b[0m\n\u001b[0;32m   2392\u001b[0m \u001b[38;5;28;01melif\u001b[39;00m \u001b[38;5;129;01mnot\u001b[39;00m is_array_like(result):\n\u001b[0;32m   2393\u001b[0m     \u001b[38;5;66;03m# GH 33924\u001b[39;00m\n\u001b[0;32m   2394\u001b[0m     \u001b[38;5;66;03m# key may contain nan elements, check_array_indexer needs bool array\u001b[39;00m\n\u001b[0;32m   2395\u001b[0m     result \u001b[38;5;241m=\u001b[39m pd_array(result, dtype\u001b[38;5;241m=\u001b[39m\u001b[38;5;28mbool\u001b[39m)\n\u001b[1;32m-> 2396\u001b[0m \u001b[38;5;28;01mreturn\u001b[39;00m \u001b[43mcheck_array_indexer\u001b[49m\u001b[43m(\u001b[49m\u001b[43mindex\u001b[49m\u001b[43m,\u001b[49m\u001b[43m \u001b[49m\u001b[43mresult\u001b[49m\u001b[43m)\u001b[49m\n",
      "File \u001b[1;32m~\\anaconda3\\lib\\site-packages\\pandas\\core\\indexers\\utils.py:579\u001b[0m, in \u001b[0;36mcheck_array_indexer\u001b[1;34m(array, indexer)\u001b[0m\n\u001b[0;32m    577\u001b[0m     \u001b[38;5;66;03m# GH26658\u001b[39;00m\n\u001b[0;32m    578\u001b[0m     \u001b[38;5;28;01mif\u001b[39;00m \u001b[38;5;28mlen\u001b[39m(indexer) \u001b[38;5;241m!=\u001b[39m \u001b[38;5;28mlen\u001b[39m(array):\n\u001b[1;32m--> 579\u001b[0m         \u001b[38;5;28;01mraise\u001b[39;00m \u001b[38;5;167;01mIndexError\u001b[39;00m(\n\u001b[0;32m    580\u001b[0m             \u001b[38;5;124mf\u001b[39m\u001b[38;5;124m\"\u001b[39m\u001b[38;5;124mBoolean index has wrong length: \u001b[39m\u001b[38;5;124m\"\u001b[39m\n\u001b[0;32m    581\u001b[0m             \u001b[38;5;124mf\u001b[39m\u001b[38;5;124m\"\u001b[39m\u001b[38;5;132;01m{\u001b[39;00m\u001b[38;5;28mlen\u001b[39m(indexer)\u001b[38;5;132;01m}\u001b[39;00m\u001b[38;5;124m instead of \u001b[39m\u001b[38;5;132;01m{\u001b[39;00m\u001b[38;5;28mlen\u001b[39m(array)\u001b[38;5;132;01m}\u001b[39;00m\u001b[38;5;124m\"\u001b[39m\n\u001b[0;32m    582\u001b[0m         )\n\u001b[0;32m    583\u001b[0m \u001b[38;5;28;01melif\u001b[39;00m is_integer_dtype(dtype):\n\u001b[0;32m    584\u001b[0m     \u001b[38;5;28;01mtry\u001b[39;00m:\n",
      "\u001b[1;31mIndexError\u001b[0m: Boolean index has wrong length: 682 instead of 0"
     ]
    }
   ],
   "source": [
    "#lidar_data = np.genfromtxt('C:/Users/Januar.KP-LAPTOP/Documents/6_Semester/ISS/ISS_Praktikum/Praktikum3/DataSets/Datensatz1.csv', delimiter=\",\", skip_header=1)\n",
    "print(test_data)\n",
    "\n",
    "import numpy as np\n",
    "from sklearn.cluster import DBSCAN\n",
    "import matplotlib.pyplot as plt\n",
    "import pandas as pd\n",
    "\n",
    "# LiDAR-Daten aus der CSV-Datei laden\n",
    "lidar_data_nuc = pd.read_csv('C:/Users/Januar.KP-LAPTOP/Documents/6_Semester/ISS/ISS_Praktikum/Praktikum3/DataSets/Datensatz1.csv', skiprows=1, usecols=range(1, lidar_data_nuc.shape[1]))\n",
    "lidar_coordinates = lidar_data_nuc.iloc[clusters == label, :12]\n",
    "#lidar_subset = lidar_data.iloc[:, :1000].values  # Die ersten 100 Sensordimensionen verwenden\n",
    "print(lidar_data_nuc)\n",
    "# Parameter für DBSCAN\n",
    "min_samples = 3  # Anzahl der Nachbarn, um einen Kernpunkt zu definieren\n",
    "eps = 150  # Maximaler Abstand zwischen Punkten, um sie als Nachbarn zu betrachten\n",
    "\n",
    "# DBSCAN-Modell erstellen und Clustering durchführen\n",
    "dbscan = DBSCAN(eps=eps, min_samples=min_samples)\n",
    "clusters = dbscan.fit_predict(lidar_subset)\n",
    "print(clusters)\n",
    "# Cluster-Labels abrufen\n",
    "unique_labels = np.unique(clusters)\n",
    "\n",
    "# Cluster-Zuordnung auf einer Karte darstellen\n",
    "plt.figure(figsize=(10, 8))\n",
    "for label in unique_labels:\n",
    "    if label == -1:\n",
    "        # Rauschen (Outlier) in Grau darstellen\n",
    "        color = 'gray'\n",
    "    else:\n",
    "        # Verschiedene Cluster mit unterschiedlichen Farben darstellen\n",
    "        color = plt.cm.jet(float(label) / np.max(clusters + 1))\n",
    "    cluster_points = lidar_coordinates[clusters == label, :]\n",
    "    plt.scatter(cluster_points[:, 0], cluster_points[:, 1], s=10, color=color)\n",
    "\n",
    "plt.xlabel('X-Koordinate')\n",
    "plt.ylabel('Y-Koordinate')\n",
    "plt.title('DBSCAN-Clustering der LiDAR-Daten')\n",
    "plt.show()\n"
   ]
  },
  {
   "cell_type": "markdown",
   "id": "87b480c9-1c93-4354-8989-e7c7892c5ad6",
   "metadata": {},
   "source": [
    "### Sensorsystem\n",
    "Wenn Sie nun das Sensorboard zusammen mit den Cluster-Algorithmen als Sensorsystem betrachten, welche Information(en) könnte die Schnittstelle des Sensorsystems als Ergebnis der Klassifikation bereitstellen? "
   ]
  },
  {
   "cell_type": "markdown",
   "id": "02b02448",
   "metadata": {},
   "source": [
    "- Wenn die Klassifizierungen bereits bei der Ausgabe der Sensordaten angewendet werden, dann werden einzelne Datenpunkte gesammelt und als eine spezifische Bewegung interpretiert/ausgegeben --> ordnet Datenpunkte und Folgeaufnahmen einer Bewegung zu"
   ]
  }
 ],
 "metadata": {
  "kernelspec": {
   "display_name": "Python 3 (ipykernel)",
   "language": "python",
   "name": "python3"
  },
  "language_info": {
   "codemirror_mode": {
    "name": "ipython",
    "version": 3
   },
   "file_extension": ".py",
   "mimetype": "text/x-python",
   "name": "python",
   "nbconvert_exporter": "python",
   "pygments_lexer": "ipython3",
   "version": "3.10.9"
  }
 },
 "nbformat": 4,
 "nbformat_minor": 5
}
